{
 "cells": [
  {
   "cell_type": "code",
   "execution_count": 1,
   "metadata": {},
   "outputs": [],
   "source": [
    "%reload_ext autoreload\n",
    "%autoreload 2\n",
    "%matplotlib inline"
   ]
  },
  {
   "cell_type": "code",
   "execution_count": 2,
   "metadata": {},
   "outputs": [],
   "source": [
    "from fastai.text import *\n",
    "import numpy as np\n",
    "from sklearn.model_selection import train_test_split\n",
    "import pickle\n",
    "import sentencepiece as spm"
   ]
  },
  {
   "cell_type": "code",
   "execution_count": 3,
   "metadata": {},
   "outputs": [
    {
     "data": {
      "text/plain": [
       "('1.0.57', '1.1.0')"
      ]
     },
     "execution_count": 3,
     "metadata": {},
     "output_type": "execute_result"
    }
   ],
   "source": [
    "import fastai, torch\n",
    "fastai.__version__ , torch.__version__"
   ]
  },
  {
   "cell_type": "code",
   "execution_count": 4,
   "metadata": {},
   "outputs": [],
   "source": [
    "torch.cuda.set_device(0)"
   ]
  },
  {
   "cell_type": "code",
   "execution_count": 5,
   "metadata": {},
   "outputs": [],
   "source": [
    "path = Path('/home/gaurav/PycharmProjects/nlp-for-sanskrit/language-model')"
   ]
  },
  {
   "cell_type": "code",
   "execution_count": 6,
   "metadata": {},
   "outputs": [],
   "source": [
    "from inltk.tokenizer import SanskritTokenizer"
   ]
  },
  {
   "cell_type": "code",
   "execution_count": 7,
   "metadata": {},
   "outputs": [
    {
     "data": {
      "text/plain": [
       "inltk.tokenizer.SanskritTokenizer"
      ]
     },
     "execution_count": 7,
     "metadata": {},
     "output_type": "execute_result"
    }
   ],
   "source": [
    "SanskritTokenizer"
   ]
  },
  {
   "cell_type": "code",
   "execution_count": 8,
   "metadata": {},
   "outputs": [],
   "source": [
    "# class SanskritTokenizer(BaseTokenizer):\n",
    "#     def __init__(self, lang:str):\n",
    "#         self.lang = lang\n",
    "#         self.sp = spm.SentencePieceProcessor()\n",
    "#         self.sp.Load(str(path/\"../tokenizer/sanskrit_lm.model\"))\n",
    "        \n",
    "#     def tokenizer(self, t:str) -> List[str]:\n",
    "#         return self.sp.EncodeAsPieces(t)"
   ]
  },
  {
   "cell_type": "code",
   "execution_count": 9,
   "metadata": {},
   "outputs": [],
   "source": [
    "sp = spm.SentencePieceProcessor()\n",
    "sp.Load(str(path/\"../tokenizer/sanskrit_lm.model\"))\n",
    "itos = [sp.IdToPiece(int(i)) for i in range(20000)]"
   ]
  },
  {
   "cell_type": "code",
   "execution_count": 10,
   "metadata": {},
   "outputs": [
    {
     "data": {
      "text/plain": [
       "['<unk>',\n",
       " '<s>',\n",
       " '</s>',\n",
       " '▁।',\n",
       " '▁',\n",
       " 'ं',\n",
       " ',',\n",
       " 'ः',\n",
       " '-',\n",
       " 'म्',\n",
       " 'स्य',\n",
       " 'े',\n",
       " '▁च',\n",
       " '▁अस्ति',\n",
       " '।',\n",
       " '.',\n",
       " '▁इति',\n",
       " 'ा',\n",
       " '▁आसीत्',\n",
       " 'ाः']"
      ]
     },
     "execution_count": 10,
     "metadata": {},
     "output_type": "execute_result"
    }
   ],
   "source": [
    "itos[:20]"
   ]
  },
  {
   "cell_type": "code",
   "execution_count": 11,
   "metadata": {},
   "outputs": [],
   "source": [
    "# 20,000 is the vocab size that we chose in sentencepiece\n",
    "sanskrit_vocab = Vocab(itos)"
   ]
  },
  {
   "cell_type": "code",
   "execution_count": 12,
   "metadata": {},
   "outputs": [],
   "source": [
    "tokenizer = Tokenizer(tok_func=SanskritTokenizer, lang='sa')"
   ]
  },
  {
   "cell_type": "code",
   "execution_count": 13,
   "metadata": {},
   "outputs": [
    {
     "data": {
      "text/plain": [
       "['xxunk',\n",
       " 'xxpad',\n",
       " 'xxbos',\n",
       " 'xxeos',\n",
       " 'xxfld',\n",
       " 'xxmaj',\n",
       " 'xxup',\n",
       " 'xxrep',\n",
       " 'xxwrep']"
      ]
     },
     "execution_count": 13,
     "metadata": {},
     "output_type": "execute_result"
    }
   ],
   "source": [
    "tokenizer.special_cases"
   ]
  },
  {
   "cell_type": "code",
   "execution_count": 14,
   "metadata": {},
   "outputs": [
    {
     "data": {
      "text/plain": [
       "PosixPath('/home/gaurav/PycharmProjects/nlp-for-sanskrit/language-model')"
      ]
     },
     "execution_count": 14,
     "metadata": {},
     "output_type": "execute_result"
    }
   ],
   "source": [
    "path"
   ]
  },
  {
   "cell_type": "code",
   "execution_count": 15,
   "metadata": {},
   "outputs": [],
   "source": [
    "data_lm = TextLMDataBunch.from_folder(path=path/'transformer', tokenizer=tokenizer, vocab=sanskrit_vocab)"
   ]
  },
  {
   "cell_type": "code",
   "execution_count": 16,
   "metadata": {},
   "outputs": [
    {
     "data": {
      "text/plain": [
       "64"
      ]
     },
     "execution_count": 16,
     "metadata": {},
     "output_type": "execute_result"
    }
   ],
   "source": [
    "data_lm.batch_size"
   ]
  },
  {
   "cell_type": "code",
   "execution_count": 17,
   "metadata": {},
   "outputs": [],
   "source": [
    "data_lm.save()"
   ]
  },
  {
   "cell_type": "code",
   "execution_count": 18,
   "metadata": {},
   "outputs": [
    {
     "data": {
      "text/html": [
       "<table border=\"1\" class=\"dataframe\">\n",
       "  <thead>\n",
       "    <tr style=\"text-align: right;\">\n",
       "      <th>idx</th>\n",
       "      <th>text</th>\n",
       "    </tr>\n",
       "  </thead>\n",
       "  <tbody>\n",
       "    <tr>\n",
       "      <td>0</td>\n",
       "      <td>▁1958 ▁तमे ▁वर्षे ▁अस्याः ▁संस्थायाः ▁संरचना ▁अभवत् ▁। ▁नासा ▁इत्येव ▁संक्षिप्त नाम्ना ▁अस्याः ▁ख्यातिः ▁। ▁नासा याः ▁मुख्यकार्यालय ः ▁वाशिङ् ग टन् , ▁डि . सि . ▁नगरे ▁अस्ति ▁। ▁1958 ▁ तमवर्षस्य ▁29 ▁तमे ▁दिनाङ्के ▁नै श नल् ▁ए ड् वै ज़ री ▁क मि टी ▁फ़ र् ▁ए रोनॉटिक ्स् ▁इति ▁अन्तरिक्ष संस्थायाः ▁अव लु प्त ि ं ▁कृत्वा ▁अमेरिका सर्वकारः ▁नै श नल् ▁ए रोनॉटिक ्स् ▁एण्ड्</td>\n",
       "    </tr>\n",
       "    <tr>\n",
       "      <td>1</td>\n",
       "      <td>▁अस्य ▁मण्डलस्य ▁केन्द्रम् ▁अस्ति ▁ बह रै च ▁ x x bo s ▁ स्क्रिप्ट ▁त्रुटि : ▁\" &lt;unk&gt; &lt;unk&gt; ▁s hort ▁de script ion \" ▁ऐसा ▁कोई ▁मॉड ्यूल ▁नही ं ▁है । ▁ x x bo s ▁महाभारते ▁आदि पर्वणि ▁ शकुन ् ▁तल ा दु ष्यन् तयोः ▁कथा ▁लभते ▁। ▁शकुन्तला ▁ब्रह्म र्षे ः ▁विश्वामित्र स्य ▁स्वर्ग स्य ▁अ प्स रा याः , ▁मेन का याः ▁च</td>\n",
       "    </tr>\n",
       "    <tr>\n",
       "      <td>2</td>\n",
       "      <td>▁• ▁15 60 ▁• ▁15 61 ▁• ▁15 62 ▁• ▁15 63 ▁• ▁15 64 ▁• ▁15 65 ▁• ▁15 66 ▁• ▁15 67 ▁• ▁15 68 ▁• ▁15 6 9 ▁• ▁15 70 ▁• ▁15 71 ▁• ▁157 2 ▁• ▁15 73 ▁• ▁15 74 ▁• ▁15 75 ▁• ▁15 76 ▁• ▁15 77 ▁• ▁15 78 ▁• ▁15 79 ▁• ▁15 80 ▁• ▁15 81 ▁• ▁15 8</td>\n",
       "    </tr>\n",
       "    <tr>\n",
       "      <td>3</td>\n",
       "      <td>▁ x x bo s ▁ स्क्रिप्ट ▁त्रुटि : ▁\" &lt;unk&gt; &lt;unk&gt; ▁s hort ▁de script ion \" ▁ऐसा ▁कोई ▁मॉड ्यूल ▁नही ं ▁है । ▁गणित क्षेत्रे ▁भारतीय ानां ▁योगदानं ▁शून्य मिति ▁सर्व विदित म् ▁। ▁किन्तु ▁एतदतिरिच्य ापि ▁गणित क्षेत्रे ▁भारतस्य ▁योगदानं ▁विपुल ं ▁वर्तते ▁। ▁अपि ▁च ▁तस्य ▁योगदान स्य ▁प्रभावः ▁आधुनिक गणित शास्त्रे ▁अपि ▁ वरी वर्त्त ि ▁इत्येव ▁विशेषः ▁। ▁भारतीयसंस्कृतेः ▁विकासे ▁गणित म् ▁अपि</td>\n",
       "    </tr>\n",
       "    <tr>\n",
       "      <td>4</td>\n",
       "      <td>- नगरात् ▁देहली - नगरस्य ▁विमानस्थानकं ▁320 ▁किलोमीटर्मिते ▁दूरे ▁स्थितमस्ति ▁। ▁अनेन ▁जनाः ▁ग्वालियर - नगरं ▁सरलतया ▁प्राप्तुं ▁शक्नुवन्ति ▁। ▁मध्यप्रदेश - राज्ये ▁एकसदनात्मक ं ▁विधानमण्डल म् ▁अस्ति ▁। ▁राज्यस्य ▁विधानसभायाः ▁ सदस्यानां ▁सङ्ख्या ▁23 0 ▁अस्ति ▁। ▁राज्ये ▁लोकसभाया ः ▁29 ▁स्थानानि , ▁राज्यसभाया ः ▁11 ▁स्थानानि ▁च ▁सन्ति ▁। ▁“ प ं . ▁रविशङ्कर ▁शुक्ल ” ▁इत्याख्यः ▁मध्यप्रदेश - राज्यस्य ▁प्रथमः ▁मुख्यमन्त्री ▁आसीत् ▁। ▁“ प ं .</td>\n",
       "    </tr>\n",
       "  </tbody>\n",
       "</table>"
      ],
      "text/plain": [
       "<IPython.core.display.HTML object>"
      ]
     },
     "metadata": {},
     "output_type": "display_data"
    }
   ],
   "source": [
    "data_lm.show_batch()"
   ]
  },
  {
   "cell_type": "code",
   "execution_count": 19,
   "metadata": {},
   "outputs": [
    {
     "data": {
      "text/plain": [
       "20000"
      ]
     },
     "execution_count": 19,
     "metadata": {},
     "output_type": "execute_result"
    }
   ],
   "source": [
    "len(data_lm.vocab.itos)"
   ]
  },
  {
   "cell_type": "code",
   "execution_count": 20,
   "metadata": {},
   "outputs": [],
   "source": [
    "learn = language_model_learner(data_lm, TransformerXL, pretrained=False)"
   ]
  },
  {
   "cell_type": "code",
   "execution_count": 21,
   "metadata": {},
   "outputs": [
    {
     "data": {
      "text/plain": [
       "20"
      ]
     },
     "execution_count": 21,
     "metadata": {},
     "output_type": "execute_result"
    }
   ],
   "source": [
    "gc.collect()"
   ]
  },
  {
   "cell_type": "code",
   "execution_count": 22,
   "metadata": {},
   "outputs": [
    {
     "data": {
      "text/html": [],
      "text/plain": [
       "<IPython.core.display.HTML object>"
      ]
     },
     "metadata": {},
     "output_type": "display_data"
    },
    {
     "name": "stdout",
     "output_type": "stream",
     "text": [
      "LR Finder is complete, type {learner_name}.recorder.plot() to see the graph.\n"
     ]
    }
   ],
   "source": [
    "learn.lr_find()"
   ]
  },
  {
   "cell_type": "code",
   "execution_count": 23,
   "metadata": {},
   "outputs": [
    {
     "data": {
      "image/png": "[encoded data removed]",
      "text/plain": [
       "<Figure size 432x288 with 1 Axes>"
      ]
     },
     "metadata": {
      "needs_background": "light"
     },
     "output_type": "display_data"
    }
   ],
   "source": [
    "learn.recorder.plot()"
   ]
  },
  {
   "cell_type": "code",
   "execution_count": 24,
   "metadata": {},
   "outputs": [
    {
     "data": {
      "text/plain": [
       "SequentialRNN(\n",
       "  (0): TransformerXL(\n",
       "    (encoder): Embedding(20000, 410)\n",
       "    (pos_enc): PositionalEncoding()\n",
       "    (drop_emb): Dropout(p=0.1)\n",
       "    (layers): ModuleList(\n",
       "      (0): DecoderLayer(\n",
       "        (mhra): MultiHeadRelativeAttention(\n",
       "          (attention): Linear(in_features=410, out_features=1230, bias=False)\n",
       "          (out): Linear(in_features=410, out_features=410, bias=False)\n",
       "          (drop_att): Dropout(p=0.1)\n",
       "          (drop_res): Dropout(p=0.1)\n",
       "          (ln): LayerNorm(torch.Size([410]), eps=1e-05, elementwise_affine=True)\n",
       "          (r_attn): Linear(in_features=410, out_features=410, bias=False)\n",
       "        )\n",
       "        (ff): SequentialEx(\n",
       "          (layers): ModuleList(\n",
       "            (0): Linear(in_features=410, out_features=2100, bias=True)\n",
       "            (1): ReLU(inplace)\n",
       "            (2): Dropout(p=0.1)\n",
       "            (3): Linear(in_features=2100, out_features=410, bias=True)\n",
       "            (4): Dropout(p=0.1)\n",
       "            (5): MergeLayer()\n",
       "            (6): LayerNorm(torch.Size([410]), eps=1e-05, elementwise_affine=True)\n",
       "          )\n",
       "        )\n",
       "      )\n",
       "      (1): DecoderLayer(\n",
       "        (mhra): MultiHeadRelativeAttention(\n",
       "          (attention): Linear(in_features=410, out_features=1230, bias=False)\n",
       "          (out): Linear(in_features=410, out_features=410, bias=False)\n",
       "          (drop_att): Dropout(p=0.1)\n",
       "          (drop_res): Dropout(p=0.1)\n",
       "          (ln): LayerNorm(torch.Size([410]), eps=1e-05, elementwise_affine=True)\n",
       "          (r_attn): Linear(in_features=410, out_features=410, bias=False)\n",
       "        )\n",
       "        (ff): SequentialEx(\n",
       "          (layers): ModuleList(\n",
       "            (0): Linear(in_features=410, out_features=2100, bias=True)\n",
       "            (1): ReLU(inplace)\n",
       "            (2): Dropout(p=0.1)\n",
       "            (3): Linear(in_features=2100, out_features=410, bias=True)\n",
       "            (4): Dropout(p=0.1)\n",
       "            (5): MergeLayer()\n",
       "            (6): LayerNorm(torch.Size([410]), eps=1e-05, elementwise_affine=True)\n",
       "          )\n",
       "        )\n",
       "      )\n",
       "      (2): DecoderLayer(\n",
       "        (mhra): MultiHeadRelativeAttention(\n",
       "          (attention): Linear(in_features=410, out_features=1230, bias=False)\n",
       "          (out): Linear(in_features=410, out_features=410, bias=False)\n",
       "          (drop_att): Dropout(p=0.1)\n",
       "          (drop_res): Dropout(p=0.1)\n",
       "          (ln): LayerNorm(torch.Size([410]), eps=1e-05, elementwise_affine=True)\n",
       "          (r_attn): Linear(in_features=410, out_features=410, bias=False)\n",
       "        )\n",
       "        (ff): SequentialEx(\n",
       "          (layers): ModuleList(\n",
       "            (0): Linear(in_features=410, out_features=2100, bias=True)\n",
       "            (1): ReLU(inplace)\n",
       "            (2): Dropout(p=0.1)\n",
       "            (3): Linear(in_features=2100, out_features=410, bias=True)\n",
       "            (4): Dropout(p=0.1)\n",
       "            (5): MergeLayer()\n",
       "            (6): LayerNorm(torch.Size([410]), eps=1e-05, elementwise_affine=True)\n",
       "          )\n",
       "        )\n",
       "      )\n",
       "      (3): DecoderLayer(\n",
       "        (mhra): MultiHeadRelativeAttention(\n",
       "          (attention): Linear(in_features=410, out_features=1230, bias=False)\n",
       "          (out): Linear(in_features=410, out_features=410, bias=False)\n",
       "          (drop_att): Dropout(p=0.1)\n",
       "          (drop_res): Dropout(p=0.1)\n",
       "          (ln): LayerNorm(torch.Size([410]), eps=1e-05, elementwise_affine=True)\n",
       "          (r_attn): Linear(in_features=410, out_features=410, bias=False)\n",
       "        )\n",
       "        (ff): SequentialEx(\n",
       "          (layers): ModuleList(\n",
       "            (0): Linear(in_features=410, out_features=2100, bias=True)\n",
       "            (1): ReLU(inplace)\n",
       "            (2): Dropout(p=0.1)\n",
       "            (3): Linear(in_features=2100, out_features=410, bias=True)\n",
       "            (4): Dropout(p=0.1)\n",
       "            (5): MergeLayer()\n",
       "            (6): LayerNorm(torch.Size([410]), eps=1e-05, elementwise_affine=True)\n",
       "          )\n",
       "        )\n",
       "      )\n",
       "      (4): DecoderLayer(\n",
       "        (mhra): MultiHeadRelativeAttention(\n",
       "          (attention): Linear(in_features=410, out_features=1230, bias=False)\n",
       "          (out): Linear(in_features=410, out_features=410, bias=False)\n",
       "          (drop_att): Dropout(p=0.1)\n",
       "          (drop_res): Dropout(p=0.1)\n",
       "          (ln): LayerNorm(torch.Size([410]), eps=1e-05, elementwise_affine=True)\n",
       "          (r_attn): Linear(in_features=410, out_features=410, bias=False)\n",
       "        )\n",
       "        (ff): SequentialEx(\n",
       "          (layers): ModuleList(\n",
       "            (0): Linear(in_features=410, out_features=2100, bias=True)\n",
       "            (1): ReLU(inplace)\n",
       "            (2): Dropout(p=0.1)\n",
       "            (3): Linear(in_features=2100, out_features=410, bias=True)\n",
       "            (4): Dropout(p=0.1)\n",
       "            (5): MergeLayer()\n",
       "            (6): LayerNorm(torch.Size([410]), eps=1e-05, elementwise_affine=True)\n",
       "          )\n",
       "        )\n",
       "      )\n",
       "      (5): DecoderLayer(\n",
       "        (mhra): MultiHeadRelativeAttention(\n",
       "          (attention): Linear(in_features=410, out_features=1230, bias=False)\n",
       "          (out): Linear(in_features=410, out_features=410, bias=False)\n",
       "          (drop_att): Dropout(p=0.1)\n",
       "          (drop_res): Dropout(p=0.1)\n",
       "          (ln): LayerNorm(torch.Size([410]), eps=1e-05, elementwise_affine=True)\n",
       "          (r_attn): Linear(in_features=410, out_features=410, bias=False)\n",
       "        )\n",
       "        (ff): SequentialEx(\n",
       "          (layers): ModuleList(\n",
       "            (0): Linear(in_features=410, out_features=2100, bias=True)\n",
       "            (1): ReLU(inplace)\n",
       "            (2): Dropout(p=0.1)\n",
       "            (3): Linear(in_features=2100, out_features=410, bias=True)\n",
       "            (4): Dropout(p=0.1)\n",
       "            (5): MergeLayer()\n",
       "            (6): LayerNorm(torch.Size([410]), eps=1e-05, elementwise_affine=True)\n",
       "          )\n",
       "        )\n",
       "      )\n",
       "      (6): DecoderLayer(\n",
       "        (mhra): MultiHeadRelativeAttention(\n",
       "          (attention): Linear(in_features=410, out_features=1230, bias=False)\n",
       "          (out): Linear(in_features=410, out_features=410, bias=False)\n",
       "          (drop_att): Dropout(p=0.1)\n",
       "          (drop_res): Dropout(p=0.1)\n",
       "          (ln): LayerNorm(torch.Size([410]), eps=1e-05, elementwise_affine=True)\n",
       "          (r_attn): Linear(in_features=410, out_features=410, bias=False)\n",
       "        )\n",
       "        (ff): SequentialEx(\n",
       "          (layers): ModuleList(\n",
       "            (0): Linear(in_features=410, out_features=2100, bias=True)\n",
       "            (1): ReLU(inplace)\n",
       "            (2): Dropout(p=0.1)\n",
       "            (3): Linear(in_features=2100, out_features=410, bias=True)\n",
       "            (4): Dropout(p=0.1)\n",
       "            (5): MergeLayer()\n",
       "            (6): LayerNorm(torch.Size([410]), eps=1e-05, elementwise_affine=True)\n",
       "          )\n",
       "        )\n",
       "      )\n",
       "      (7): DecoderLayer(\n",
       "        (mhra): MultiHeadRelativeAttention(\n",
       "          (attention): Linear(in_features=410, out_features=1230, bias=False)\n",
       "          (out): Linear(in_features=410, out_features=410, bias=False)\n",
       "          (drop_att): Dropout(p=0.1)\n",
       "          (drop_res): Dropout(p=0.1)\n",
       "          (ln): LayerNorm(torch.Size([410]), eps=1e-05, elementwise_affine=True)\n",
       "          (r_attn): Linear(in_features=410, out_features=410, bias=False)\n",
       "        )\n",
       "        (ff): SequentialEx(\n",
       "          (layers): ModuleList(\n",
       "            (0): Linear(in_features=410, out_features=2100, bias=True)\n",
       "            (1): ReLU(inplace)\n",
       "            (2): Dropout(p=0.1)\n",
       "            (3): Linear(in_features=2100, out_features=410, bias=True)\n",
       "            (4): Dropout(p=0.1)\n",
       "            (5): MergeLayer()\n",
       "            (6): LayerNorm(torch.Size([410]), eps=1e-05, elementwise_affine=True)\n",
       "          )\n",
       "        )\n",
       "      )\n",
       "      (8): DecoderLayer(\n",
       "        (mhra): MultiHeadRelativeAttention(\n",
       "          (attention): Linear(in_features=410, out_features=1230, bias=False)\n",
       "          (out): Linear(in_features=410, out_features=410, bias=False)\n",
       "          (drop_att): Dropout(p=0.1)\n",
       "          (drop_res): Dropout(p=0.1)\n",
       "          (ln): LayerNorm(torch.Size([410]), eps=1e-05, elementwise_affine=True)\n",
       "          (r_attn): Linear(in_features=410, out_features=410, bias=False)\n",
       "        )\n",
       "        (ff): SequentialEx(\n",
       "          (layers): ModuleList(\n",
       "            (0): Linear(in_features=410, out_features=2100, bias=True)\n",
       "            (1): ReLU(inplace)\n",
       "            (2): Dropout(p=0.1)\n",
       "            (3): Linear(in_features=2100, out_features=410, bias=True)\n",
       "            (4): Dropout(p=0.1)\n",
       "            (5): MergeLayer()\n",
       "            (6): LayerNorm(torch.Size([410]), eps=1e-05, elementwise_affine=True)\n",
       "          )\n",
       "        )\n",
       "      )\n",
       "      (9): DecoderLayer(\n",
       "        (mhra): MultiHeadRelativeAttention(\n",
       "          (attention): Linear(in_features=410, out_features=1230, bias=False)\n",
       "          (out): Linear(in_features=410, out_features=410, bias=False)\n",
       "          (drop_att): Dropout(p=0.1)\n",
       "          (drop_res): Dropout(p=0.1)\n",
       "          (ln): LayerNorm(torch.Size([410]), eps=1e-05, elementwise_affine=True)\n",
       "          (r_attn): Linear(in_features=410, out_features=410, bias=False)\n",
       "        )\n",
       "        (ff): SequentialEx(\n",
       "          (layers): ModuleList(\n",
       "            (0): Linear(in_features=410, out_features=2100, bias=True)\n",
       "            (1): ReLU(inplace)\n",
       "            (2): Dropout(p=0.1)\n",
       "            (3): Linear(in_features=2100, out_features=410, bias=True)\n",
       "            (4): Dropout(p=0.1)\n",
       "            (5): MergeLayer()\n",
       "            (6): LayerNorm(torch.Size([410]), eps=1e-05, elementwise_affine=True)\n",
       "          )\n",
       "        )\n",
       "      )\n",
       "      (10): DecoderLayer(\n",
       "        (mhra): MultiHeadRelativeAttention(\n",
       "          (attention): Linear(in_features=410, out_features=1230, bias=False)\n",
       "          (out): Linear(in_features=410, out_features=410, bias=False)\n",
       "          (drop_att): Dropout(p=0.1)\n",
       "          (drop_res): Dropout(p=0.1)\n",
       "          (ln): LayerNorm(torch.Size([410]), eps=1e-05, elementwise_affine=True)\n",
       "          (r_attn): Linear(in_features=410, out_features=410, bias=False)\n",
       "        )\n",
       "        (ff): SequentialEx(\n",
       "          (layers): ModuleList(\n",
       "            (0): Linear(in_features=410, out_features=2100, bias=True)\n",
       "            (1): ReLU(inplace)\n",
       "            (2): Dropout(p=0.1)\n",
       "            (3): Linear(in_features=2100, out_features=410, bias=True)\n",
       "            (4): Dropout(p=0.1)\n",
       "            (5): MergeLayer()\n",
       "            (6): LayerNorm(torch.Size([410]), eps=1e-05, elementwise_affine=True)\n",
       "          )\n",
       "        )\n",
       "      )\n",
       "      (11): DecoderLayer(\n",
       "        (mhra): MultiHeadRelativeAttention(\n",
       "          (attention): Linear(in_features=410, out_features=1230, bias=False)\n",
       "          (out): Linear(in_features=410, out_features=410, bias=False)\n",
       "          (drop_att): Dropout(p=0.1)\n",
       "          (drop_res): Dropout(p=0.1)\n",
       "          (ln): LayerNorm(torch.Size([410]), eps=1e-05, elementwise_affine=True)\n",
       "          (r_attn): Linear(in_features=410, out_features=410, bias=False)\n",
       "        )\n",
       "        (ff): SequentialEx(\n",
       "          (layers): ModuleList(\n",
       "            (0): Linear(in_features=410, out_features=2100, bias=True)\n",
       "            (1): ReLU(inplace)\n",
       "            (2): Dropout(p=0.1)\n",
       "            (3): Linear(in_features=2100, out_features=410, bias=True)\n",
       "            (4): Dropout(p=0.1)\n",
       "            (5): MergeLayer()\n",
       "            (6): LayerNorm(torch.Size([410]), eps=1e-05, elementwise_affine=True)\n",
       "          )\n",
       "        )\n",
       "      )\n",
       "    )\n",
       "  )\n",
       "  (1): LinearDecoder(\n",
       "    (decoder): Linear(in_features=410, out_features=20000, bias=True)\n",
       "    (output_dp): RNNDropout()\n",
       "  )\n",
       ")"
      ]
     },
     "execution_count": 24,
     "metadata": {},
     "output_type": "execute_result"
    }
   ],
   "source": [
    "learn.model"
   ]
  },
  {
   "cell_type": "code",
   "execution_count": 25,
   "metadata": {},
   "outputs": [
    {
     "data": {
      "text/html": [
       "<table border=\"1\" class=\"dataframe\">\n",
       "  <thead>\n",
       "    <tr style=\"text-align: left;\">\n",
       "      <th>epoch</th>\n",
       "      <th>train_loss</th>\n",
       "      <th>valid_loss</th>\n",
       "      <th>accuracy</th>\n",
       "      <th>time</th>\n",
       "    </tr>\n",
       "  </thead>\n",
       "  <tbody>\n",
       "    <tr>\n",
       "      <td>0</td>\n",
       "      <td>3.154071</td>\n",
       "      <td>3.291768</td>\n",
       "      <td>0.564568</td>\n",
       "      <td>31:36</td>\n",
       "    </tr>\n",
       "    <tr>\n",
       "      <td>1</td>\n",
       "      <td>3.139888</td>\n",
       "      <td>2.835752</td>\n",
       "      <td>0.601113</td>\n",
       "      <td>31:36</td>\n",
       "    </tr>\n",
       "    <tr>\n",
       "      <td>2</td>\n",
       "      <td>2.474718</td>\n",
       "      <td>2.456913</td>\n",
       "      <td>0.632234</td>\n",
       "      <td>31:34</td>\n",
       "    </tr>\n",
       "    <tr>\n",
       "      <td>3</td>\n",
       "      <td>2.368002</td>\n",
       "      <td>2.282298</td>\n",
       "      <td>0.645209</td>\n",
       "      <td>31:32</td>\n",
       "    </tr>\n",
       "    <tr>\n",
       "      <td>4</td>\n",
       "      <td>2.302382</td>\n",
       "      <td>2.237828</td>\n",
       "      <td>0.644723</td>\n",
       "      <td>31:34</td>\n",
       "    </tr>\n",
       "    <tr>\n",
       "      <td>5</td>\n",
       "      <td>2.194650</td>\n",
       "      <td>2.134889</td>\n",
       "      <td>0.653257</td>\n",
       "      <td>31:39</td>\n",
       "    </tr>\n",
       "    <tr>\n",
       "      <td>6</td>\n",
       "      <td>1.963417</td>\n",
       "      <td>2.026230</td>\n",
       "      <td>0.665172</td>\n",
       "      <td>31:32</td>\n",
       "    </tr>\n",
       "    <tr>\n",
       "      <td>7</td>\n",
       "      <td>2.137518</td>\n",
       "      <td>1.933545</td>\n",
       "      <td>0.675175</td>\n",
       "      <td>31:33</td>\n",
       "    </tr>\n",
       "    <tr>\n",
       "      <td>8</td>\n",
       "      <td>1.993879</td>\n",
       "      <td>1.808482</td>\n",
       "      <td>0.692598</td>\n",
       "      <td>31:36</td>\n",
       "    </tr>\n",
       "    <tr>\n",
       "      <td>9</td>\n",
       "      <td>2.163775</td>\n",
       "      <td>1.705578</td>\n",
       "      <td>0.708088</td>\n",
       "      <td>31:34</td>\n",
       "    </tr>\n",
       "    <tr>\n",
       "      <td>10</td>\n",
       "      <td>1.817191</td>\n",
       "      <td>1.588199</td>\n",
       "      <td>0.726043</td>\n",
       "      <td>31:28</td>\n",
       "    </tr>\n",
       "    <tr>\n",
       "      <td>11</td>\n",
       "      <td>1.865462</td>\n",
       "      <td>1.475894</td>\n",
       "      <td>0.744257</td>\n",
       "      <td>31:35</td>\n",
       "    </tr>\n",
       "    <tr>\n",
       "      <td>12</td>\n",
       "      <td>1.538610</td>\n",
       "      <td>1.372166</td>\n",
       "      <td>0.761075</td>\n",
       "      <td>31:42</td>\n",
       "    </tr>\n",
       "    <tr>\n",
       "      <td>13</td>\n",
       "      <td>1.542283</td>\n",
       "      <td>1.282009</td>\n",
       "      <td>0.777208</td>\n",
       "      <td>31:40</td>\n",
       "    </tr>\n",
       "    <tr>\n",
       "      <td>14</td>\n",
       "      <td>1.529270</td>\n",
       "      <td>1.202274</td>\n",
       "      <td>0.791207</td>\n",
       "      <td>31:41</td>\n",
       "    </tr>\n",
       "    <tr>\n",
       "      <td>15</td>\n",
       "      <td>1.139415</td>\n",
       "      <td>1.133187</td>\n",
       "      <td>0.803651</td>\n",
       "      <td>31:42</td>\n",
       "    </tr>\n",
       "    <tr>\n",
       "      <td>16</td>\n",
       "      <td>1.143720</td>\n",
       "      <td>1.086020</td>\n",
       "      <td>0.812477</td>\n",
       "      <td>31:43</td>\n",
       "    </tr>\n",
       "    <tr>\n",
       "      <td>17</td>\n",
       "      <td>1.124093</td>\n",
       "      <td>1.047846</td>\n",
       "      <td>0.818979</td>\n",
       "      <td>31:43</td>\n",
       "    </tr>\n",
       "    <tr>\n",
       "      <td>18</td>\n",
       "      <td>1.024008</td>\n",
       "      <td>1.030698</td>\n",
       "      <td>0.821907</td>\n",
       "      <td>31:43</td>\n",
       "    </tr>\n",
       "    <tr>\n",
       "      <td>19</td>\n",
       "      <td>1.293110</td>\n",
       "      <td>1.029641</td>\n",
       "      <td>0.822202</td>\n",
       "      <td>31:43</td>\n",
       "    </tr>\n",
       "  </tbody>\n",
       "</table>"
      ],
      "text/plain": [
       "<IPython.core.display.HTML object>"
      ]
     },
     "metadata": {},
     "output_type": "display_data"
    },
    {
     "name": "stdout",
     "output_type": "stream",
     "text": [
      "Better model found at epoch 0 with accuracy value: 0.5645676255226135.\n",
      "Better model found at epoch 1 with accuracy value: 0.6011129021644592.\n",
      "Better model found at epoch 2 with accuracy value: 0.6322338581085205.\n",
      "Better model found at epoch 3 with accuracy value: 0.645209014415741.\n",
      "Better model found at epoch 5 with accuracy value: 0.6532570719718933.\n",
      "Better model found at epoch 6 with accuracy value: 0.6651723384857178.\n",
      "Better model found at epoch 7 with accuracy value: 0.6751745939254761.\n",
      "Better model found at epoch 8 with accuracy value: 0.6925978064537048.\n",
      "Better model found at epoch 9 with accuracy value: 0.7080881595611572.\n",
      "Better model found at epoch 10 with accuracy value: 0.7260430455207825.\n",
      "Better model found at epoch 11 with accuracy value: 0.7442565560340881.\n",
      "Better model found at epoch 12 with accuracy value: 0.7610749006271362.\n",
      "Better model found at epoch 13 with accuracy value: 0.7772083878517151.\n",
      "Better model found at epoch 14 with accuracy value: 0.7912068367004395.\n",
      "Better model found at epoch 15 with accuracy value: 0.8036509156227112.\n",
      "Better model found at epoch 16 with accuracy value: 0.8124772906303406.\n",
      "Better model found at epoch 17 with accuracy value: 0.8189786076545715.\n",
      "Better model found at epoch 18 with accuracy value: 0.8219068050384521.\n",
      "Better model found at epoch 19 with accuracy value: 0.822202205657959.\n"
     ]
    }
   ],
   "source": [
    "learn.fit_one_cycle(20, 1e-3, callbacks=[callbacks.SaveModelCallback(learn, every='improvement', monitor='accuracy', name='model')])"
   ]
  },
  {
   "cell_type": "code",
   "execution_count": 26,
   "metadata": {},
   "outputs": [],
   "source": [
    "TEXT = \"तस्याः पिता\"\n",
    "N_WORDS = 40\n",
    "N_SENTENCES = 2"
   ]
  },
  {
   "cell_type": "code",
   "execution_count": 27,
   "metadata": {},
   "outputs": [
    {
     "name": "stdout",
     "output_type": "stream",
     "text": [
      "तस्याः पिता ▁महर्षिः ▁आसीत् । ▁ x x bo s ▁ स्क्रिप्ट ▁त्रुटि : ▁\" देश ▁देशस् ▁य ▁नगरः ▁अस् ▁ति । ▁अलाबामा ▁| ▁अलास्का ▁| ▁आर िज़ो ना ▁| ▁अर्कान्स ▁| ▁का लिफ़ ोर्निया ▁| ▁कोलोराडो ▁| ▁कनेक्टिकट् ▁| ▁डेला वेर्\n",
      "तस्याः पिता निर्व कोश िकः ▁कश्चन ▁शिक्षकः ▁। ▁तस्मिन् ▁चत्वारः ▁पादाः ▁सन्ति ▁। ▁तेषु ▁द्वौ ▁एवं ▁एकः ▁पुरुषः ▁। ▁ x x bo s ▁ स्क्रिप्ट ▁त्रुटि : ▁\" ▁\" ▁ ▁s hort ▁de script ion \" ▁ऐसा ▁कोई ▁मॉड ्यूल ▁नही\n"
     ]
    }
   ],
   "source": [
    "print(\"\\n\".join(learn.predict(TEXT, N_WORDS, temperature=0.75) for _ in range(N_SENTENCES)))"
   ]
  },
  {
   "cell_type": "code",
   "execution_count": 28,
   "metadata": {},
   "outputs": [
    {
     "data": {
      "text/plain": [
       "2.7731947639642978"
      ]
     },
     "execution_count": 28,
     "metadata": {},
     "output_type": "execute_result"
    }
   ],
   "source": [
    "np.exp(1.02)"
   ]
  },
  {
   "cell_type": "code",
   "execution_count": 29,
   "metadata": {},
   "outputs": [],
   "source": [
    "defaults.device = torch.device('cpu')\n",
    "learn.model.eval()\n",
    "learn.export()"
   ]
  },
  {
   "cell_type": "code",
   "execution_count": 30,
   "metadata": {},
   "outputs": [],
   "source": [
    "# Generating embedding vectors for visualization"
   ]
  },
  {
   "cell_type": "code",
   "execution_count": 31,
   "metadata": {},
   "outputs": [
    {
     "data": {
      "text/plain": [
       "PosixPath('/home/gaurav/PycharmProjects/nlp-for-sanskrit/language-model')"
      ]
     },
     "execution_count": 31,
     "metadata": {},
     "output_type": "execute_result"
    }
   ],
   "source": [
    "path"
   ]
  },
  {
   "cell_type": "code",
   "execution_count": 32,
   "metadata": {},
   "outputs": [],
   "source": [
    "# defaults.device = torch.device('cpu')"
   ]
  },
  {
   "cell_type": "code",
   "execution_count": 33,
   "metadata": {},
   "outputs": [],
   "source": [
    "# learn = load_learner(path / 'SanskritDataset/')"
   ]
  },
  {
   "cell_type": "code",
   "execution_count": 34,
   "metadata": {},
   "outputs": [],
   "source": [
    "encoder = get_model(learn.model)[0]"
   ]
  },
  {
   "cell_type": "code",
   "execution_count": 35,
   "metadata": {},
   "outputs": [
    {
     "data": {
      "text/plain": [
       "torch.Size([20000, 410])"
      ]
     },
     "execution_count": 35,
     "metadata": {},
     "output_type": "execute_result"
    }
   ],
   "source": [
    "encoder.state_dict()['encoder.weight'].shape"
   ]
  },
  {
   "cell_type": "code",
   "execution_count": 36,
   "metadata": {},
   "outputs": [],
   "source": [
    "embeddings = encoder.state_dict()['encoder.weight']"
   ]
  },
  {
   "cell_type": "code",
   "execution_count": 37,
   "metadata": {},
   "outputs": [],
   "source": [
    "embeddings = np.array(embeddings)"
   ]
  },
  {
   "cell_type": "code",
   "execution_count": 38,
   "metadata": {},
   "outputs": [
    {
     "data": {
      "text/plain": [
       "(410,)"
      ]
     },
     "execution_count": 38,
     "metadata": {},
     "output_type": "execute_result"
    }
   ],
   "source": [
    "embeddings[0].shape"
   ]
  },
  {
   "cell_type": "code",
   "execution_count": 39,
   "metadata": {},
   "outputs": [],
   "source": [
    "df = pd.DataFrame(embeddings)"
   ]
  },
  {
   "cell_type": "code",
   "execution_count": 40,
   "metadata": {},
   "outputs": [
    {
     "data": {
      "text/plain": [
       "(20000, 410)"
      ]
     },
     "execution_count": 40,
     "metadata": {},
     "output_type": "execute_result"
    }
   ],
   "source": [
    "df.shape"
   ]
  },
  {
   "cell_type": "code",
   "execution_count": 41,
   "metadata": {},
   "outputs": [],
   "source": [
    "df.to_csv('embeddings_transformer.tsv', sep='\\t', index=False, header=False)"
   ]
  },
  {
   "cell_type": "code",
   "execution_count": 42,
   "metadata": {},
   "outputs": [
    {
     "data": {
      "text/html": [
       "<div>\n",
       "<style scoped>\n",
       "    .dataframe tbody tr th:only-of-type {\n",
       "        vertical-align: middle;\n",
       "    }\n",
       "\n",
       "    .dataframe tbody tr th {\n",
       "        vertical-align: top;\n",
       "    }\n",
       "\n",
       "    .dataframe thead th {\n",
       "        text-align: right;\n",
       "    }\n",
       "</style>\n",
       "<table border=\"1\" class=\"dataframe\">\n",
       "  <thead>\n",
       "    <tr style=\"text-align: right;\">\n",
       "      <th></th>\n",
       "      <th>0</th>\n",
       "      <th>1</th>\n",
       "      <th>2</th>\n",
       "      <th>3</th>\n",
       "      <th>4</th>\n",
       "      <th>5</th>\n",
       "      <th>6</th>\n",
       "      <th>7</th>\n",
       "      <th>8</th>\n",
       "      <th>9</th>\n",
       "      <th>...</th>\n",
       "      <th>400</th>\n",
       "      <th>401</th>\n",
       "      <th>402</th>\n",
       "      <th>403</th>\n",
       "      <th>404</th>\n",
       "      <th>405</th>\n",
       "      <th>406</th>\n",
       "      <th>407</th>\n",
       "      <th>408</th>\n",
       "      <th>409</th>\n",
       "    </tr>\n",
       "  </thead>\n",
       "  <tbody>\n",
       "    <tr>\n",
       "      <td>0</td>\n",
       "      <td>-0.169647</td>\n",
       "      <td>0.058451</td>\n",
       "      <td>0.260510</td>\n",
       "      <td>0.467916</td>\n",
       "      <td>-0.419531</td>\n",
       "      <td>0.206374</td>\n",
       "      <td>0.170735</td>\n",
       "      <td>0.007706</td>\n",
       "      <td>-0.291706</td>\n",
       "      <td>-0.247849</td>\n",
       "      <td>...</td>\n",
       "      <td>0.324177</td>\n",
       "      <td>-0.088940</td>\n",
       "      <td>-0.328013</td>\n",
       "      <td>0.051412</td>\n",
       "      <td>-0.166982</td>\n",
       "      <td>0.168031</td>\n",
       "      <td>-0.354324</td>\n",
       "      <td>0.213484</td>\n",
       "      <td>0.256730</td>\n",
       "      <td>-0.164348</td>\n",
       "    </tr>\n",
       "    <tr>\n",
       "      <td>1</td>\n",
       "      <td>-0.120863</td>\n",
       "      <td>0.455649</td>\n",
       "      <td>-0.011654</td>\n",
       "      <td>0.180977</td>\n",
       "      <td>-0.002927</td>\n",
       "      <td>-0.080978</td>\n",
       "      <td>-0.010470</td>\n",
       "      <td>0.023015</td>\n",
       "      <td>-0.085018</td>\n",
       "      <td>0.027529</td>\n",
       "      <td>...</td>\n",
       "      <td>0.110132</td>\n",
       "      <td>0.060216</td>\n",
       "      <td>0.126827</td>\n",
       "      <td>-0.062549</td>\n",
       "      <td>0.172363</td>\n",
       "      <td>0.113766</td>\n",
       "      <td>-0.004518</td>\n",
       "      <td>0.166090</td>\n",
       "      <td>-0.001576</td>\n",
       "      <td>-0.054337</td>\n",
       "    </tr>\n",
       "    <tr>\n",
       "      <td>2</td>\n",
       "      <td>-0.116626</td>\n",
       "      <td>0.455841</td>\n",
       "      <td>-0.012514</td>\n",
       "      <td>0.174373</td>\n",
       "      <td>-0.003064</td>\n",
       "      <td>-0.081035</td>\n",
       "      <td>-0.020460</td>\n",
       "      <td>0.025402</td>\n",
       "      <td>-0.085098</td>\n",
       "      <td>0.033546</td>\n",
       "      <td>...</td>\n",
       "      <td>0.109770</td>\n",
       "      <td>0.063722</td>\n",
       "      <td>0.118362</td>\n",
       "      <td>-0.060914</td>\n",
       "      <td>0.171612</td>\n",
       "      <td>0.115609</td>\n",
       "      <td>-0.005279</td>\n",
       "      <td>0.171505</td>\n",
       "      <td>0.001058</td>\n",
       "      <td>-0.055905</td>\n",
       "    </tr>\n",
       "    <tr>\n",
       "      <td>3</td>\n",
       "      <td>0.221483</td>\n",
       "      <td>0.440458</td>\n",
       "      <td>-0.315887</td>\n",
       "      <td>-0.671472</td>\n",
       "      <td>-0.245623</td>\n",
       "      <td>-0.606604</td>\n",
       "      <td>-0.715155</td>\n",
       "      <td>-0.367341</td>\n",
       "      <td>-0.382365</td>\n",
       "      <td>0.196604</td>\n",
       "      <td>...</td>\n",
       "      <td>-0.078364</td>\n",
       "      <td>-0.231544</td>\n",
       "      <td>0.304637</td>\n",
       "      <td>0.209951</td>\n",
       "      <td>0.022771</td>\n",
       "      <td>0.284060</td>\n",
       "      <td>0.039352</td>\n",
       "      <td>-0.286001</td>\n",
       "      <td>0.013354</td>\n",
       "      <td>-0.116784</td>\n",
       "    </tr>\n",
       "    <tr>\n",
       "      <td>4</td>\n",
       "      <td>-0.018212</td>\n",
       "      <td>-0.581948</td>\n",
       "      <td>-0.056550</td>\n",
       "      <td>-0.489280</td>\n",
       "      <td>-0.059120</td>\n",
       "      <td>0.209476</td>\n",
       "      <td>0.066189</td>\n",
       "      <td>-0.034302</td>\n",
       "      <td>-0.007646</td>\n",
       "      <td>0.013580</td>\n",
       "      <td>...</td>\n",
       "      <td>-0.006286</td>\n",
       "      <td>-0.001105</td>\n",
       "      <td>0.223081</td>\n",
       "      <td>-0.064937</td>\n",
       "      <td>0.002001</td>\n",
       "      <td>0.059816</td>\n",
       "      <td>0.045514</td>\n",
       "      <td>-0.155628</td>\n",
       "      <td>0.002716</td>\n",
       "      <td>0.056387</td>\n",
       "    </tr>\n",
       "  </tbody>\n",
       "</table>\n",
       "<p>5 rows × 410 columns</p>\n",
       "</div>"
      ],
      "text/plain": [
       "        0         1         2         3         4         5         6    \\\n",
       "0 -0.169647  0.058451  0.260510  0.467916 -0.419531  0.206374  0.170735   \n",
       "1 -0.120863  0.455649 -0.011654  0.180977 -0.002927 -0.080978 -0.010470   \n",
       "2 -0.116626  0.455841 -0.012514  0.174373 -0.003064 -0.081035 -0.020460   \n",
       "3  0.221483  0.440458 -0.315887 -0.671472 -0.245623 -0.606604 -0.715155   \n",
       "4 -0.018212 -0.581948 -0.056550 -0.489280 -0.059120  0.209476  0.066189   \n",
       "\n",
       "        7         8         9    ...       400       401       402       403  \\\n",
       "0  0.007706 -0.291706 -0.247849  ...  0.324177 -0.088940 -0.328013  0.051412   \n",
       "1  0.023015 -0.085018  0.027529  ...  0.110132  0.060216  0.126827 -0.062549   \n",
       "2  0.025402 -0.085098  0.033546  ...  0.109770  0.063722  0.118362 -0.060914   \n",
       "3 -0.367341 -0.382365  0.196604  ... -0.078364 -0.231544  0.304637  0.209951   \n",
       "4 -0.034302 -0.007646  0.013580  ... -0.006286 -0.001105  0.223081 -0.064937   \n",
       "\n",
       "        404       405       406       407       408       409  \n",
       "0 -0.166982  0.168031 -0.354324  0.213484  0.256730 -0.164348  \n",
       "1  0.172363  0.113766 -0.004518  0.166090 -0.001576 -0.054337  \n",
       "2  0.171612  0.115609 -0.005279  0.171505  0.001058 -0.055905  \n",
       "3  0.022771  0.284060  0.039352 -0.286001  0.013354 -0.116784  \n",
       "4  0.002001  0.059816  0.045514 -0.155628  0.002716  0.056387  \n",
       "\n",
       "[5 rows x 410 columns]"
      ]
     },
     "execution_count": 42,
     "metadata": {},
     "output_type": "execute_result"
    }
   ],
   "source": [
    "df.head()"
   ]
  },
  {
   "cell_type": "code",
   "execution_count": 43,
   "metadata": {},
   "outputs": [],
   "source": [
    "df2 = pd.DataFrame(itos)"
   ]
  },
  {
   "cell_type": "code",
   "execution_count": 44,
   "metadata": {},
   "outputs": [
    {
     "data": {
      "text/html": [
       "<div>\n",
       "<style scoped>\n",
       "    .dataframe tbody tr th:only-of-type {\n",
       "        vertical-align: middle;\n",
       "    }\n",
       "\n",
       "    .dataframe tbody tr th {\n",
       "        vertical-align: top;\n",
       "    }\n",
       "\n",
       "    .dataframe thead th {\n",
       "        text-align: right;\n",
       "    }\n",
       "</style>\n",
       "<table border=\"1\" class=\"dataframe\">\n",
       "  <thead>\n",
       "    <tr style=\"text-align: right;\">\n",
       "      <th></th>\n",
       "      <th>0</th>\n",
       "    </tr>\n",
       "  </thead>\n",
       "  <tbody>\n",
       "    <tr>\n",
       "      <td>0</td>\n",
       "      <td>&lt;unk&gt;</td>\n",
       "    </tr>\n",
       "    <tr>\n",
       "      <td>1</td>\n",
       "      <td>&lt;s&gt;</td>\n",
       "    </tr>\n",
       "    <tr>\n",
       "      <td>2</td>\n",
       "      <td>&lt;/s&gt;</td>\n",
       "    </tr>\n",
       "    <tr>\n",
       "      <td>3</td>\n",
       "      <td>▁।</td>\n",
       "    </tr>\n",
       "    <tr>\n",
       "      <td>4</td>\n",
       "      <td>▁</td>\n",
       "    </tr>\n",
       "  </tbody>\n",
       "</table>\n",
       "</div>"
      ],
      "text/plain": [
       "       0\n",
       "0  <unk>\n",
       "1    <s>\n",
       "2   </s>\n",
       "3     ▁।\n",
       "4      ▁"
      ]
     },
     "execution_count": 44,
     "metadata": {},
     "output_type": "execute_result"
    }
   ],
   "source": [
    "df2.head()"
   ]
  },
  {
   "cell_type": "code",
   "execution_count": 45,
   "metadata": {},
   "outputs": [
    {
     "data": {
      "text/plain": [
       "(20000, 1)"
      ]
     },
     "execution_count": 45,
     "metadata": {},
     "output_type": "execute_result"
    }
   ],
   "source": [
    "df2.shape"
   ]
  },
  {
   "cell_type": "code",
   "execution_count": 46,
   "metadata": {},
   "outputs": [],
   "source": [
    "df2.to_csv('embeddings_transformer_metadata.tsv', sep='\\t', index=False, header=False)"
   ]
  },
  {
   "cell_type": "code",
   "execution_count": 47,
   "metadata": {
    "scrolled": true
   },
   "outputs": [
    {
     "data": {
      "text/plain": [
       "tensor([-1.2086e-01,  4.5565e-01, -1.1654e-02,  1.8098e-01, -2.9274e-03,\n",
       "        -8.0978e-02, -1.0470e-02,  2.3015e-02, -8.5018e-02,  2.7529e-02,\n",
       "         7.1904e-02, -1.2681e-02, -4.5343e-02, -4.0600e-02,  9.9447e-02,\n",
       "         6.7511e-02, -8.2244e-02, -3.6083e-02, -4.2622e-01, -8.3462e-03,\n",
       "        -2.7923e-02, -6.3987e-02,  7.1130e-02, -2.4661e-02,  8.9884e-02,\n",
       "         2.2581e-02, -4.9069e-02, -9.8187e-01,  2.6336e-02, -1.1168e-02,\n",
       "        -2.6739e-02, -3.7360e-03,  6.9202e-02,  6.2146e-02, -3.9030e-02,\n",
       "         9.4551e-03, -3.3869e-02, -4.1968e-02,  5.3545e-02,  5.8821e-02,\n",
       "        -2.4466e-02, -4.5772e-02, -3.7406e-02,  9.3826e-02,  8.4523e-02,\n",
       "        -1.3875e-02,  5.6811e-02, -1.4185e-01, -5.7414e-02,  7.6547e-02,\n",
       "        -1.0074e-01,  1.3376e-01, -5.5439e-03,  5.0898e-02, -1.6778e-01,\n",
       "         7.1110e-02, -8.4912e-02, -4.7950e-02, -2.2383e-02,  4.6031e-02,\n",
       "        -1.4019e-01, -1.5220e-01, -5.3084e-02,  5.9150e-02,  4.7171e-01,\n",
       "        -5.8124e-02, -3.5744e-02, -1.0121e-01, -3.6194e-02, -2.5696e-02,\n",
       "         9.0476e-02,  7.7397e-03, -2.0815e-02, -5.2923e-03, -2.6876e-02,\n",
       "        -1.7929e-02,  9.6086e-02,  8.6684e-02, -1.1989e-03, -9.9401e-02,\n",
       "        -1.0022e-01, -8.8259e-02, -1.3542e-01,  4.7062e-02, -3.3002e-02,\n",
       "        -1.6182e-02, -1.0430e-01, -4.9132e-02,  1.1666e-02, -6.6477e-02,\n",
       "        -9.6072e-03,  4.0587e-02,  5.0622e-02, -5.6399e-02,  2.3031e-02,\n",
       "        -9.0969e-03,  3.0558e-02, -1.6326e-02, -3.2880e-03, -6.0246e-02,\n",
       "        -2.3947e-03,  1.0031e-01, -7.4463e-02,  1.8474e-01, -9.4942e-02,\n",
       "         4.1492e-02,  6.6029e-02,  7.1495e-02, -1.4376e-01,  8.2768e-02,\n",
       "         1.0910e-01, -4.9958e-02,  1.1259e-02,  5.6036e-02,  2.3609e-02,\n",
       "         8.7627e-02, -2.8102e-02,  1.8642e-01, -1.4490e-01,  2.1474e-02,\n",
       "        -8.9904e-02,  1.8013e-01,  9.9802e-01, -6.7878e-03,  5.6272e-02,\n",
       "        -9.1335e-02, -4.2107e-02, -1.3022e-01, -5.9664e-02, -9.3989e-02,\n",
       "        -1.1275e-01,  4.9129e-02,  8.8892e-02,  2.8230e-02, -3.2351e-02,\n",
       "         2.9659e-02,  8.2812e-02, -2.1620e-02,  4.3131e-02,  3.6425e-03,\n",
       "         9.8896e-03, -1.6078e-01, -2.5760e-01,  8.8078e-02, -8.9825e-02,\n",
       "         1.6950e-01,  2.3883e-02,  5.0128e-02, -5.6006e-02, -9.8322e-02,\n",
       "         4.9722e-02,  1.0093e-01,  1.2380e-01,  7.4154e-02,  4.2136e-02,\n",
       "        -8.6191e-02, -2.5993e-02,  4.1112e-02,  3.8000e-02, -1.4829e-01,\n",
       "         2.9069e-01,  1.7590e-01,  1.4743e-02,  7.3674e-02, -1.6726e-03,\n",
       "        -9.0475e-02, -8.5545e-02,  4.9214e-02, -1.0857e-01, -2.0089e-02,\n",
       "        -7.9120e-02, -1.0049e-01, -5.5067e-02, -5.7571e-02,  5.6258e-02,\n",
       "        -1.6699e-01,  5.0127e-03,  1.5265e-01, -9.5362e-02, -9.7034e-02,\n",
       "         1.6036e-01, -5.1415e-02, -4.3330e-02,  3.2490e-01,  7.3623e-02,\n",
       "        -8.8315e-02, -7.0044e-02, -3.5064e-02, -1.3807e-02, -3.9051e-03,\n",
       "        -1.9446e-02, -2.7639e-02, -1.3792e-02,  3.4053e-02, -1.1763e-01,\n",
       "        -1.4747e-01,  1.5773e-01,  1.0836e-01, -1.1737e-01,  7.1113e-02,\n",
       "        -3.3897e-02,  3.6114e-02,  1.0765e-03,  8.9256e-02,  4.4344e-02,\n",
       "        -2.5200e-02, -1.3427e-01, -1.4651e-02,  1.7501e-01, -7.8188e-02,\n",
       "        -1.4254e-01,  1.9906e-02, -1.3614e-04,  4.1196e-03, -9.2116e-02,\n",
       "        -1.1176e-01,  1.5935e-01, -2.2327e-02, -1.1533e-01,  2.5281e-03,\n",
       "        -2.3441e-02, -2.8819e-02,  3.1666e-02, -1.2761e-01, -1.4803e-01,\n",
       "        -1.7433e-02, -2.9838e-02, -1.0278e-01,  2.2755e-01, -1.9238e-02,\n",
       "        -1.4848e-01,  5.5423e-02,  7.4030e-02,  3.6846e-02, -1.6466e-02,\n",
       "         1.7672e-02,  9.2271e-02,  1.2769e-01,  6.5398e-02,  1.1695e-01,\n",
       "         7.1774e-03, -5.6031e-02, -1.2296e-01, -5.0000e-03,  1.4662e-04,\n",
       "         1.2204e-02, -9.4824e-02,  2.6065e-02, -9.6521e-02,  7.6326e-02,\n",
       "         6.2912e-02, -7.7161e-02, -9.7560e-02,  9.1907e-02, -8.9641e-02,\n",
       "         3.2882e-02, -3.7394e-02, -1.1101e-01, -3.1704e-02,  8.6418e-02,\n",
       "         4.5220e-02,  4.6496e-02,  7.1071e-02, -4.2352e-02, -5.9849e-02,\n",
       "        -1.9734e-02,  7.8285e-02, -9.4402e-02, -3.4878e-02,  1.6737e-01,\n",
       "         4.7190e-02, -8.5959e-02, -6.0232e-02,  1.6742e-02, -1.3392e-01,\n",
       "         1.1466e-01,  1.2301e-01, -6.7409e-02, -3.4816e-02,  2.0012e-02,\n",
       "         9.3728e-02, -3.9577e-02,  1.8491e-01,  5.8197e-02, -1.2892e-02,\n",
       "         3.1407e-02,  1.3960e-01, -2.1034e-02, -3.9126e-02,  1.2174e-01,\n",
       "        -1.8894e-02, -3.1531e-02, -1.1171e-01,  3.4520e-02, -1.1942e-01,\n",
       "        -3.0171e-02, -1.0345e-01, -7.8632e-02,  6.2122e-02, -2.1082e-01,\n",
       "        -9.0542e-02, -4.5773e-01, -2.0771e-01, -4.5521e-02, -1.4831e-01,\n",
       "        -3.9205e-01,  3.4158e-02,  1.3704e-01, -1.6768e-02,  4.4341e-02,\n",
       "         8.3619e-02, -2.2898e-03, -5.3212e-02, -4.2159e-01, -8.0444e-02,\n",
       "         5.1395e-03, -8.0057e-03, -4.7695e-02,  1.5327e-01,  4.5558e-04,\n",
       "        -4.9907e-02, -1.7706e-01, -1.8784e-01,  1.0459e-01,  1.1689e-02,\n",
       "         5.3697e-02, -7.1101e-02,  3.3526e-02,  5.1682e-02, -1.3583e-01,\n",
       "        -1.0044e-02,  1.0958e-01, -1.0021e-02,  2.8910e-02,  1.1571e-01,\n",
       "        -1.6813e-01, -7.9703e-02, -3.3446e-02, -8.8426e-02, -9.0699e-03,\n",
       "         8.4828e-02, -1.6311e-02, -2.3577e-04,  5.8055e-02, -1.1305e-02,\n",
       "         3.0785e-02, -6.5279e-02, -1.1300e-01,  1.0489e-01, -2.5502e-02,\n",
       "         5.3772e-02, -1.0887e-02, -4.4605e-02,  3.9373e-01, -9.0637e-02,\n",
       "        -4.2655e-02,  1.3854e-01, -4.1349e-02,  1.1704e-01, -1.0738e-01,\n",
       "        -8.4641e-02, -6.4439e-02, -3.8302e-03,  7.7961e-02,  1.1328e-01,\n",
       "        -6.1434e-02,  1.6948e-02, -3.6555e-02, -4.2241e-03, -2.6105e-02,\n",
       "         2.7346e-02, -2.2259e-01, -8.4242e-02, -1.8126e-01, -1.0002e-01,\n",
       "         1.6105e-03,  5.3036e-02, -1.6499e-02, -4.1147e-02,  6.7752e-02,\n",
       "        -7.9107e-02, -3.9108e-02, -1.2389e-02, -1.7775e-02,  3.9540e-04,\n",
       "         8.6589e-02,  5.6800e-02,  3.0476e-03, -7.9257e-02,  5.1745e-02,\n",
       "        -3.4309e-02, -7.3610e-02, -3.5199e-02, -7.0285e-02,  6.9623e-02,\n",
       "        -5.5266e-02,  9.7405e-02,  1.2251e-01, -6.6231e-03, -8.2987e-02,\n",
       "         1.1013e-01,  6.0216e-02,  1.2683e-01, -6.2549e-02,  1.7236e-01,\n",
       "         1.1377e-01, -4.5182e-03,  1.6609e-01, -1.5762e-03, -5.4337e-02],\n",
       "       device='cuda:0')"
      ]
     },
     "execution_count": 47,
     "metadata": {},
     "output_type": "execute_result"
    }
   ],
   "source": [
    "encoder.state_dict()['encoder.weight'][1]"
   ]
  },
  {
   "cell_type": "code",
   "execution_count": null,
   "metadata": {},
   "outputs": [],
   "source": []
  }
 ],
 "metadata": {
  "kernelspec": {
   "display_name": "Python 3",
   "language": "python",
   "name": "python3"
  },
  "language_info": {
   "codemirror_mode": {
    "name": "ipython",
    "version": 3
   },
   "file_extension": ".py",
   "mimetype": "text/x-python",
   "name": "python",
   "nbconvert_exporter": "python",
   "pygments_lexer": "ipython3",
   "version": "3.7.3"
  }
 },
 "nbformat": 4,
 "nbformat_minor": 2
}
