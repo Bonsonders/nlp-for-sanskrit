{
 "cells": [
  {
   "cell_type": "code",
   "execution_count": 1,
   "metadata": {},
   "outputs": [],
   "source": [
    "from fastai.text import *\n",
    "import numpy as np\n",
    "from sklearn.model_selection import train_test_split\n",
    "import pickle\n",
    "import sentencepiece as spm\n",
    "import re\n",
    "import pdb"
   ]
  },
  {
   "cell_type": "code",
   "execution_count": 2,
   "metadata": {},
   "outputs": [
    {
     "data": {
      "text/plain": [
       "('1.0.57', '1.1.0')"
      ]
     },
     "execution_count": 2,
     "metadata": {},
     "output_type": "execute_result"
    }
   ],
   "source": [
    "import fastai, torch\n",
    "fastai.__version__ , torch.__version__"
   ]
  },
  {
   "cell_type": "code",
   "execution_count": 3,
   "metadata": {},
   "outputs": [],
   "source": [
    "torch.cuda.set_device(0)"
   ]
  },
  {
   "cell_type": "code",
   "execution_count": 4,
   "metadata": {},
   "outputs": [
    {
     "name": "stdout",
     "output_type": "stream",
     "text": [
      "/home/gaurav/PycharmProjects/nlp-for-sanskrit/classification-slokas\r\n"
     ]
    }
   ],
   "source": [
    "!pwd"
   ]
  },
  {
   "cell_type": "code",
   "execution_count": 5,
   "metadata": {},
   "outputs": [],
   "source": [
    "path = Path('/home/gaurav/PycharmProjects/nlp-for-sanskrit/classification-slokas')"
   ]
  },
  {
   "cell_type": "code",
   "execution_count": 6,
   "metadata": {},
   "outputs": [
    {
     "data": {
      "text/html": [
       "<div>\n",
       "<style scoped>\n",
       "    .dataframe tbody tr th:only-of-type {\n",
       "        vertical-align: middle;\n",
       "    }\n",
       "\n",
       "    .dataframe tbody tr th {\n",
       "        vertical-align: top;\n",
       "    }\n",
       "\n",
       "    .dataframe thead th {\n",
       "        text-align: right;\n",
       "    }\n",
       "</style>\n",
       "<table border=\"1\" class=\"dataframe\">\n",
       "  <thead>\n",
       "    <tr style=\"text-align: right;\">\n",
       "      <th></th>\n",
       "      <th>Sloka</th>\n",
       "      <th>Class</th>\n",
       "    </tr>\n",
       "  </thead>\n",
       "  <tbody>\n",
       "    <tr>\n",
       "      <td>0</td>\n",
       "      <td>यस्मात् त्रस्यन्ति भूतानि मृगव्याधान्मृगा इव। ...</td>\n",
       "      <td>Vidur Niti Slokas</td>\n",
       "    </tr>\n",
       "    <tr>\n",
       "      <td>1</td>\n",
       "      <td>एतान्यनिगृहीतानि  व्यापादयितुमप्यलम्।         ...</td>\n",
       "      <td>Vidur Niti Slokas</td>\n",
       "    </tr>\n",
       "    <tr>\n",
       "      <td>2</td>\n",
       "      <td>यावत्स्वस्थो ह्यय देहः तावन्मृत्युश्च दूरतः। ...</td>\n",
       "      <td>Chanakya Slokas</td>\n",
       "    </tr>\n",
       "    <tr>\n",
       "      <td>3</td>\n",
       "      <td>ईश्वरस्य  स्मरणं प्रभाते उत्थाय अवश्यं  कर्तं...</td>\n",
       "      <td>sanskrit-slogan</td>\n",
       "    </tr>\n",
       "    <tr>\n",
       "      <td>4</td>\n",
       "      <td>लोकयात्रा भयं लज्जा दाक्षिण्यं त्यागशीलता।   ...</td>\n",
       "      <td>Chanakya Slokas</td>\n",
       "    </tr>\n",
       "  </tbody>\n",
       "</table>\n",
       "</div>"
      ],
      "text/plain": [
       "                                               Sloka              Class\n",
       "0  यस्मात् त्रस्यन्ति भूतानि मृगव्याधान्मृगा इव। ...  Vidur Niti Slokas\n",
       "1  एतान्यनिगृहीतानि  व्यापादयितुमप्यलम्।         ...  Vidur Niti Slokas\n",
       "2   यावत्स्वस्थो ह्यय देहः तावन्मृत्युश्च दूरतः। ...    Chanakya Slokas\n",
       "3   ईश्वरस्य  स्मरणं प्रभाते उत्थाय अवश्यं  कर्तं...    sanskrit-slogan\n",
       "4   लोकयात्रा भयं लज्जा दाक्षिण्यं त्यागशीलता।   ...    Chanakya Slokas"
      ]
     },
     "execution_count": 6,
     "metadata": {},
     "output_type": "execute_result"
    }
   ],
   "source": [
    "train_df = pd.read_csv(path/'train.csv')\n",
    "train_df.head()"
   ]
  },
  {
   "cell_type": "code",
   "execution_count": 7,
   "metadata": {},
   "outputs": [
    {
     "data": {
      "text/html": [
       "<div>\n",
       "<style scoped>\n",
       "    .dataframe tbody tr th:only-of-type {\n",
       "        vertical-align: middle;\n",
       "    }\n",
       "\n",
       "    .dataframe tbody tr th {\n",
       "        vertical-align: top;\n",
       "    }\n",
       "\n",
       "    .dataframe thead th {\n",
       "        text-align: right;\n",
       "    }\n",
       "</style>\n",
       "<table border=\"1\" class=\"dataframe\">\n",
       "  <thead>\n",
       "    <tr style=\"text-align: right;\">\n",
       "      <th></th>\n",
       "      <th>Sloka</th>\n",
       "      <th>Class</th>\n",
       "    </tr>\n",
       "  </thead>\n",
       "  <tbody>\n",
       "    <tr>\n",
       "      <td>0</td>\n",
       "      <td>यो यस्मिन् कर्माणि कुशलस्तं तस्मित्रैव योजयेत्...</td>\n",
       "      <td>sanskrit-slogan</td>\n",
       "    </tr>\n",
       "    <tr>\n",
       "      <td>1</td>\n",
       "      <td>अध्ययनेन/अध्ययनं वीना ज्ञानं न भवति ॥</td>\n",
       "      <td>sanskrit-slogan</td>\n",
       "    </tr>\n",
       "    <tr>\n",
       "      <td>2</td>\n",
       "      <td>पुष्पं पुष्पं विचिन्वीत मूलच्छेदं न कारयेत् । ...</td>\n",
       "      <td>Vidur Niti Slokas</td>\n",
       "    </tr>\n",
       "    <tr>\n",
       "      <td>3</td>\n",
       "      <td>मृजया रक्ष्यते रूपम् ॥</td>\n",
       "      <td>sanskrit-slogan</td>\n",
       "    </tr>\n",
       "    <tr>\n",
       "      <td>4</td>\n",
       "      <td>मूर्खश्चिरायुर्जातोऽपि तस्माज्जातमृतो वरः।    ...</td>\n",
       "      <td>Chanakya Slokas</td>\n",
       "    </tr>\n",
       "  </tbody>\n",
       "</table>\n",
       "</div>"
      ],
      "text/plain": [
       "                                               Sloka              Class\n",
       "0  यो यस्मिन् कर्माणि कुशलस्तं तस्मित्रैव योजयेत्...    sanskrit-slogan\n",
       "1           अध्ययनेन/अध्ययनं वीना ज्ञानं न भवति ॥       sanskrit-slogan\n",
       "2  पुष्पं पुष्पं विचिन्वीत मूलच्छेदं न कारयेत् । ...  Vidur Niti Slokas\n",
       "3                           मृजया रक्ष्यते रूपम् ॥      sanskrit-slogan\n",
       "4  मूर्खश्चिरायुर्जातोऽपि तस्माज्जातमृतो वरः।    ...    Chanakya Slokas"
      ]
     },
     "execution_count": 7,
     "metadata": {},
     "output_type": "execute_result"
    }
   ],
   "source": [
    "valid_df = pd.read_csv(path/'valid.csv')\n",
    "valid_df.head()"
   ]
  },
  {
   "cell_type": "code",
   "execution_count": 8,
   "metadata": {},
   "outputs": [
    {
     "data": {
      "text/plain": [
       "array(['Vidur Niti Slokas', 'Chanakya Slokas', 'sanskrit-slogan'], dtype=object)"
      ]
     },
     "execution_count": 8,
     "metadata": {},
     "output_type": "execute_result"
    }
   ],
   "source": [
    "train_df['Class'].unique()"
   ]
  },
  {
   "cell_type": "code",
   "execution_count": 9,
   "metadata": {},
   "outputs": [
    {
     "data": {
      "text/plain": [
       "array(['sanskrit-slogan', 'Vidur Niti Slokas', 'Chanakya Slokas'], dtype=object)"
      ]
     },
     "execution_count": 9,
     "metadata": {},
     "output_type": "execute_result"
    }
   ],
   "source": [
    "valid_df['Class'].unique()"
   ]
  },
  {
   "cell_type": "code",
   "execution_count": 10,
   "metadata": {},
   "outputs": [
    {
     "name": "stdout",
     "output_type": "stream",
     "text": [
      "In Training data:\n",
      "Vidur Niti Slokas 118\n",
      "Chanakya Slokas 138\n",
      "sanskrit-slogan 127\n"
     ]
    }
   ],
   "source": [
    "print('In Training data:')\n",
    "for cls in train_df['Class'].unique():\n",
    "    print(cls, (train_df['Class'] == cls).sum())"
   ]
  },
  {
   "cell_type": "code",
   "execution_count": 11,
   "metadata": {},
   "outputs": [
    {
     "name": "stdout",
     "output_type": "stream",
     "text": [
      "In Validation data:\n",
      "sanskrit-slogan 29\n",
      "Vidur Niti Slokas 28\n",
      "Chanakya Slokas 39\n"
     ]
    }
   ],
   "source": [
    "print('In Validation data:')\n",
    "for cls in valid_df['Class'].unique():\n",
    "    print(cls, (valid_df['Class'] == cls).sum())"
   ]
  },
  {
   "cell_type": "code",
   "execution_count": 12,
   "metadata": {},
   "outputs": [
    {
     "data": {
      "text/plain": [
       "'यस्मात् त्रस्यन्ति भूतानि मृगव्याधान्मृगा इव।                            सागरान्तामपि महीं लब्ध्वा स परिहीयते ॥                               '"
      ]
     },
     "execution_count": 12,
     "metadata": {},
     "output_type": "execute_result"
    }
   ],
   "source": [
    "train_df['Sloka'][0]"
   ]
  },
  {
   "cell_type": "code",
   "execution_count": 13,
   "metadata": {},
   "outputs": [
    {
     "data": {
      "text/plain": [
       "((383, 2), (96, 2))"
      ]
     },
     "execution_count": 13,
     "metadata": {},
     "output_type": "execute_result"
    }
   ],
   "source": [
    "train_df.shape, valid_df.shape"
   ]
  },
  {
   "cell_type": "code",
   "execution_count": 14,
   "metadata": {},
   "outputs": [
    {
     "data": {
      "text/plain": [
       "(0, 2)"
      ]
     },
     "execution_count": 14,
     "metadata": {},
     "output_type": "execute_result"
    }
   ],
   "source": [
    "train_df[train_df['Sloka'].isnull()].shape"
   ]
  },
  {
   "cell_type": "code",
   "execution_count": 15,
   "metadata": {},
   "outputs": [
    {
     "data": {
      "text/plain": [
       "(0, 2)"
      ]
     },
     "execution_count": 15,
     "metadata": {},
     "output_type": "execute_result"
    }
   ],
   "source": [
    "valid_df[valid_df['Sloka'].isnull()].shape"
   ]
  },
  {
   "cell_type": "code",
   "execution_count": 16,
   "metadata": {},
   "outputs": [],
   "source": [
    "label_cols = list(range(1,train_df.shape[1]))"
   ]
  },
  {
   "cell_type": "code",
   "execution_count": 17,
   "metadata": {},
   "outputs": [
    {
     "name": "stdout",
     "output_type": "stream",
     "text": [
      "[1]\n"
     ]
    }
   ],
   "source": [
    "print(label_cols)"
   ]
  },
  {
   "cell_type": "code",
   "execution_count": 18,
   "metadata": {},
   "outputs": [],
   "source": [
    "id_to_col = list(train_df.columns)"
   ]
  },
  {
   "cell_type": "code",
   "execution_count": 19,
   "metadata": {},
   "outputs": [],
   "source": [
    "col_to_id = {}\n",
    "for i, col in enumerate(id_to_col):\n",
    "    col_to_id[col] = i"
   ]
  },
  {
   "cell_type": "code",
   "execution_count": 20,
   "metadata": {},
   "outputs": [
    {
     "data": {
      "text/plain": [
       "PosixPath('/home/gaurav/PycharmProjects/nlp-for-sanskrit/classification-slokas')"
      ]
     },
     "execution_count": 20,
     "metadata": {},
     "output_type": "execute_result"
    }
   ],
   "source": [
    "path"
   ]
  },
  {
   "cell_type": "code",
   "execution_count": 21,
   "metadata": {},
   "outputs": [],
   "source": [
    "class SanskritTokenizer(BaseTokenizer):\n",
    "    def __init__(self, lang:str):\n",
    "        self.lang = lang\n",
    "        self.sp = spm.SentencePieceProcessor()\n",
    "        self.sp.Load(str(path/\"../tokenizer/sanskrit_lm.model\"))\n",
    "        \n",
    "    def tokenizer(self, t:str) -> List[str]:\n",
    "        return self.sp.EncodeAsPieces(t)"
   ]
  },
  {
   "cell_type": "code",
   "execution_count": 22,
   "metadata": {},
   "outputs": [],
   "source": [
    "sp = spm.SentencePieceProcessor()\n",
    "sp.Load(str(path/\"../tokenizer/sanskrit_lm.model\"))\n",
    "itos = [sp.IdToPiece(int(i)) for i in range(20000)]"
   ]
  },
  {
   "cell_type": "code",
   "execution_count": 23,
   "metadata": {},
   "outputs": [
    {
     "data": {
      "text/plain": [
       "['<unk>', '<s>', '</s>', '▁।', '▁', 'ं', ',', 'ः', '-', 'म्']"
      ]
     },
     "execution_count": 23,
     "metadata": {},
     "output_type": "execute_result"
    }
   ],
   "source": [
    "itos[:10]"
   ]
  },
  {
   "cell_type": "code",
   "execution_count": 24,
   "metadata": {},
   "outputs": [],
   "source": [
    "# 20,000 is the vocab size that we chose in sentencepiece\n",
    "sanskrit_vocab = Vocab(itos)"
   ]
  },
  {
   "cell_type": "code",
   "execution_count": 25,
   "metadata": {},
   "outputs": [],
   "source": [
    "tokenizer = Tokenizer(tok_func=SanskritTokenizer, lang='sa')"
   ]
  },
  {
   "cell_type": "code",
   "execution_count": 26,
   "metadata": {},
   "outputs": [
    {
     "data": {
      "text/plain": [
       "['xxunk',\n",
       " 'xxpad',\n",
       " 'xxbos',\n",
       " 'xxeos',\n",
       " 'xxfld',\n",
       " 'xxmaj',\n",
       " 'xxup',\n",
       " 'xxrep',\n",
       " 'xxwrep']"
      ]
     },
     "execution_count": 26,
     "metadata": {},
     "output_type": "execute_result"
    }
   ],
   "source": [
    "tokenizer.special_cases"
   ]
  },
  {
   "cell_type": "code",
   "execution_count": 34,
   "metadata": {},
   "outputs": [],
   "source": [
    "data_lm = TextLMDataBunch.from_df(path=path, train_df=train_df, valid_df=valid_df, text_cols=[0], label_cols=label_cols, tokenizer=tokenizer, vocab=sanskrit_vocab, bs=16)"
   ]
  },
  {
   "cell_type": "code",
   "execution_count": 35,
   "metadata": {},
   "outputs": [],
   "source": [
    "data_lm.save()"
   ]
  },
  {
   "cell_type": "code",
   "execution_count": 36,
   "metadata": {},
   "outputs": [
    {
     "data": {
      "text/html": [
       "<table border=\"1\" class=\"dataframe\">\n",
       "  <thead>\n",
       "    <tr style=\"text-align: right;\">\n",
       "      <th>idx</th>\n",
       "      <th>text</th>\n",
       "    </tr>\n",
       "  </thead>\n",
       "  <tbody>\n",
       "    <tr>\n",
       "      <td>0</td>\n",
       "      <td>स्थ ो ▁ह्य य ▁देह ः ▁ताव न् मृत्यु श्च ▁दूर तः । ▁तावद ात्म हित ं ▁कुर्यात् ▁प्रण ान्ते ▁किं ▁करिष्यति ॥ ▁ x x bo s ▁ईश्वरस्य ▁स्मरणं ▁प्रभात े ▁उत्थाय ▁अवश्यं ▁ कर्त ं व्य म् ▁॥ ▁ x x bo s ▁लोक यात्रा ▁भयं ▁लज्ज ा ▁दा क्षि ण्य ं ▁त्याग शीलता । ▁पञ्च ▁यत्र ▁न ▁विद्यन्ते ▁न ▁कुर्यात् तत्र ▁सं गति म् ▁॥ ▁ x</td>\n",
       "    </tr>\n",
       "    <tr>\n",
       "      <td>1</td>\n",
       "      <td>▁पत त्येक ः ▁एको ▁याति ▁परा ं ▁गति म् ॥ ▁ x x bo s ▁यद् ▁दूरं ▁यद् ▁दुर ाराध ्यं ▁यच्च ▁दूरे ▁व्यवस्थित म् ▁। ▁तत्सर्व ं ▁तपसा ▁साध्य ं ▁तपो ▁हि ▁दुर ति क्रम म् ▁॥ ▁ x x bo s ▁अर्थ ेष णा ▁न ▁ व्यसन ेषु ▁गण्यते ▁॥ ▁ x x bo s ▁विनय ाद् ▁याति ▁पात्र ताम् ▁॥ ▁ x x bo s ▁यज्ञ ो</td>\n",
       "    </tr>\n",
       "    <tr>\n",
       "      <td>2</td>\n",
       "      <td>॥ ▁ x x bo s ▁उद्योग सम्पन्न ं ▁स मुपैति ▁लक्ष्मीः ▁॥ ▁ x x bo s ▁यो ▁ध्रुव ाणि ▁परित्यज्य ▁ह्य ध्रुव ं ▁परि से व ते । ▁ध्रुव ाणि ▁तस्य ▁नश्यन्ति ▁च ा ध्रुव ं ▁नष्ट मेव ▁तत् ▁॥ ▁ x x bo s ▁आ क् रु ▁ श् मान ो ▁ना क्रोश ेन ्म न्यु रेव ▁ति ति क्षत ः । ▁आ क्र ो ष्टा र</td>\n",
       "    </tr>\n",
       "    <tr>\n",
       "      <td>3</td>\n",
       "      <td>▁राज्ञा ▁तु ▁महाबल ेन ा ▁ वर्ज ्या न्या हु : ▁पण्डित स्त ानि ▁विद्या त् ▁। ▁अल्प प्रज्ञ ै : ▁सह ▁मन्त्र ं ▁न ▁कुर्या त ▁दीर्घ सु त्र ै ▁र भ स ैश्च ा रण ैश्च ▁॥ ▁ x x bo s ▁सुख स्य ▁मूलं ▁धर्मः ▁॥ ▁ x x bo s ▁अष्टौ ▁गुणाः ▁पुरुष ं ▁दीप यन्ति ▁प्रज्ञा ▁च ▁कौ ल्य ं ▁च ▁ दम ः ▁श्रुत</td>\n",
       "    </tr>\n",
       "    <tr>\n",
       "      <td>4</td>\n",
       "      <td>▁ x x bo s ▁पुस्तक ेषु ▁च ▁या ▁विद्या ▁पर हस्त ेषु ▁च ▁यद् धन म् ▁। ▁उत्पन्न ेषु ▁च ▁कार्येषु ▁न ▁सा ▁विद्या ▁न ▁तद् धन म् ▁॥ ▁ x x bo s ▁अनर्थ ाः ▁ संघ चारिण ः ▁॥ ▁ x x bo s ▁अ सन् त्याग ात् ▁पाप कृता म पाप ां स् तुल्य ो ▁दण्ड ः ▁ स्पृश ते ▁मिश्र भाव ात् । ▁शुष्क ेण</td>\n",
       "    </tr>\n",
       "  </tbody>\n",
       "</table>"
      ],
      "text/plain": [
       "<IPython.core.display.HTML object>"
      ]
     },
     "metadata": {},
     "output_type": "display_data"
    }
   ],
   "source": [
    "data_lm.show_batch()"
   ]
  },
  {
   "cell_type": "code",
   "execution_count": 30,
   "metadata": {},
   "outputs": [],
   "source": [
    "awd_lstm_config = awd_lstm_lm_config.copy()\n",
    "awd_lstm_config['n_hid'] = 1150"
   ]
  },
  {
   "cell_type": "code",
   "execution_count": 38,
   "metadata": {},
   "outputs": [],
   "source": [
    "learn = language_model_learner(data_lm, arch=AWD_LSTM, drop_mult=0.3, config=awd_lstm_config, pretrained=False)"
   ]
  },
  {
   "cell_type": "code",
   "execution_count": 39,
   "metadata": {
    "scrolled": true
   },
   "outputs": [
    {
     "data": {
      "text/plain": [
       "LanguageLearner(data=TextLMDataBunch;\n",
       "\n",
       "Train: LabelList (383 items)\n",
       "x: LMTextList\n",
       "▁ x x bo s ▁यस्मात् ▁त्र स्य न्ति ▁भूतानि ▁मृग व्या ध ान् मृग ा ▁इव । ▁सागर ान् ता मपि ▁मही ं ▁लब्ध्वा ▁स ▁परि ह ीयते ▁॥,▁ x x bo s ▁एतान् यन ि गृहीत ानि ▁व्या पाद यितु मप्य ल म् । ▁अवि धेय ा ▁इव ाद ान् ता ▁ह याः ▁पथ ि ▁कु सार थि म् ▁॥,▁ x x bo s ▁यावत् स्व स्थ ो ▁ह्य य ▁देह ः ▁ताव न् मृत्यु श्च ▁दूर तः । ▁तावद ात्म हित ं ▁कुर्यात् ▁प्रण ान्ते ▁किं ▁करिष्यति ॥,▁ x x bo s ▁ईश्वरस्य ▁स्मरणं ▁प्रभात े ▁उत्थाय ▁अवश्यं ▁ कर्त ं व्य म् ▁॥,▁ x x bo s ▁लोक यात्रा ▁भयं ▁लज्ज ा ▁दा क्षि ण्य ं ▁त्याग शीलता । ▁पञ्च ▁यत्र ▁न ▁विद्यन्ते ▁न ▁कुर्यात् तत्र ▁सं गति म् ▁॥\n",
       "y: LMLabelList\n",
       ",,,,\n",
       "Path: /home/gaurav/PycharmProjects/nlp-for-sanskrit/classification-slokas;\n",
       "\n",
       "Valid: LabelList (96 items)\n",
       "x: LMTextList\n",
       "▁ x x bo s ▁यो ▁यस्मिन् ▁कर्माणि ▁कुशल स्त ं ▁ तस् मित्र ैव ▁योज येत् ▁॥,▁ x x bo s ▁अध्ययनेन ▁/ ▁अध्ययनं ▁वी ना ▁ज्ञानं ▁न ▁भवति ▁॥,▁ x x bo s ▁पुष्प ं ▁पुष्प ं ▁वि चि न् वीत ▁मूल च्छेद ं ▁न ▁कार येत् ▁। ▁माल ाकार ▁इव ा राम े ▁न ▁यथा ङ्ग र कारक ः ▁॥,▁ x x bo s ▁ मृ ज या ▁रक्ष ्यते ▁रूप म् ▁॥,▁ x x bo s ▁मूर्ख श्च ि राय ुर् जात ोऽपि ▁ तस् मा ज् जात मृत ो ▁वर ः । ▁मृतः ▁स ▁च ा ल्प दुःख ाय ▁या व ज् जीव ं ▁जड ो ▁ दह ेत् ॥\n",
       "y: LMLabelList\n",
       ",,,,\n",
       "Path: /home/gaurav/PycharmProjects/nlp-for-sanskrit/classification-slokas;\n",
       "\n",
       "Test: None, model=SequentialRNN(\n",
       "  (0): AWD_LSTM(\n",
       "    (encoder): Embedding(20000, 400, padding_idx=1)\n",
       "    (encoder_dp): EmbeddingDropout(\n",
       "      (emb): Embedding(20000, 400, padding_idx=1)\n",
       "    )\n",
       "    (rnns): ModuleList(\n",
       "      (0): WeightDropout(\n",
       "        (module): LSTM(400, 1150, batch_first=True)\n",
       "      )\n",
       "      (1): WeightDropout(\n",
       "        (module): LSTM(1150, 1150, batch_first=True)\n",
       "      )\n",
       "      (2): WeightDropout(\n",
       "        (module): LSTM(1150, 400, batch_first=True)\n",
       "      )\n",
       "    )\n",
       "    (input_dp): RNNDropout()\n",
       "    (hidden_dps): ModuleList(\n",
       "      (0): RNNDropout()\n",
       "      (1): RNNDropout()\n",
       "      (2): RNNDropout()\n",
       "    )\n",
       "  )\n",
       "  (1): LinearDecoder(\n",
       "    (decoder): Linear(in_features=400, out_features=20000, bias=True)\n",
       "    (output_dp): RNNDropout()\n",
       "  )\n",
       "), opt_func=functools.partial(<class 'torch.optim.adam.Adam'>, betas=(0.9, 0.99)), loss_func=FlattenedLoss of CrossEntropyLoss(), metrics=[<function accuracy at 0x7fb0e7ce24d0>], true_wd=True, bn_wd=True, wd=0.01, train_bn=True, path=PosixPath('/home/gaurav/PycharmProjects/nlp-for-sanskrit/classification-slokas'), model_dir='models', callback_fns=[functools.partial(<class 'fastai.basic_train.Recorder'>, add_time=True, silent=False)], callbacks=[RNNTrainer\n",
       "learn: ...\n",
       "alpha: 2.0\n",
       "beta: 1.0], layer_groups=[Sequential(\n",
       "  (0): WeightDropout(\n",
       "    (module): LSTM(400, 1150, batch_first=True)\n",
       "  )\n",
       "  (1): RNNDropout()\n",
       "), Sequential(\n",
       "  (0): WeightDropout(\n",
       "    (module): LSTM(1150, 1150, batch_first=True)\n",
       "  )\n",
       "  (1): RNNDropout()\n",
       "), Sequential(\n",
       "  (0): WeightDropout(\n",
       "    (module): LSTM(1150, 400, batch_first=True)\n",
       "  )\n",
       "  (1): RNNDropout()\n",
       "), Sequential(\n",
       "  (0): Embedding(20000, 400, padding_idx=1)\n",
       "  (1): EmbeddingDropout(\n",
       "    (emb): Embedding(20000, 400, padding_idx=1)\n",
       "  )\n",
       "  (2): LinearDecoder(\n",
       "    (decoder): Linear(in_features=400, out_features=20000, bias=True)\n",
       "    (output_dp): RNNDropout()\n",
       "  )\n",
       ")], add_time=True, silent=False, cb_fns_registered=False)"
      ]
     },
     "execution_count": 39,
     "metadata": {},
     "output_type": "execute_result"
    }
   ],
   "source": [
    "# Loading the pretrained language model on sanskrit wikipedia\n",
    "learn.load('/home/gaurav/PycharmProjects/nlp-for-sanskrit/language-model/SanskritDataset/models/second_sa_lm', with_opt=True)"
   ]
  },
  {
   "cell_type": "code",
   "execution_count": 40,
   "metadata": {},
   "outputs": [],
   "source": [
    "# Fine tuning the prtrained LM on current dataset"
   ]
  },
  {
   "cell_type": "code",
   "execution_count": 41,
   "metadata": {},
   "outputs": [
    {
     "data": {
      "text/html": [],
      "text/plain": [
       "<IPython.core.display.HTML object>"
      ]
     },
     "metadata": {},
     "output_type": "display_data"
    },
    {
     "name": "stdout",
     "output_type": "stream",
     "text": [
      "LR Finder is complete, type {learner_name}.recorder.plot() to see the graph.\n"
     ]
    }
   ],
   "source": [
    "learn.lr_find()"
   ]
  },
  {
   "cell_type": "code",
   "execution_count": 42,
   "metadata": {},
   "outputs": [
    {
     "data": {
      "image/png": "[encoded data removed]",
      "text/plain": [
       "<Figure size 432x288 with 1 Axes>"
      ]
     },
     "metadata": {
      "needs_background": "light"
     },
     "output_type": "display_data"
    }
   ],
   "source": [
    "learn.recorder.plot()"
   ]
  },
  {
   "cell_type": "code",
   "execution_count": 43,
   "metadata": {},
   "outputs": [],
   "source": [
    "learn.freeze()"
   ]
  },
  {
   "cell_type": "code",
   "execution_count": 44,
   "metadata": {},
   "outputs": [
    {
     "data": {
      "text/html": [
       "<table border=\"1\" class=\"dataframe\">\n",
       "  <thead>\n",
       "    <tr style=\"text-align: left;\">\n",
       "      <th>epoch</th>\n",
       "      <th>train_loss</th>\n",
       "      <th>valid_loss</th>\n",
       "      <th>accuracy</th>\n",
       "      <th>time</th>\n",
       "    </tr>\n",
       "  </thead>\n",
       "  <tbody>\n",
       "    <tr>\n",
       "      <td>0</td>\n",
       "      <td>5.579320</td>\n",
       "      <td>5.318869</td>\n",
       "      <td>0.275298</td>\n",
       "      <td>00:00</td>\n",
       "    </tr>\n",
       "  </tbody>\n",
       "</table>"
      ],
      "text/plain": [
       "<IPython.core.display.HTML object>"
      ]
     },
     "metadata": {},
     "output_type": "display_data"
    }
   ],
   "source": [
    "learn.fit_one_cycle(1, 1e-2, moms=(0.8,0.7))"
   ]
  },
  {
   "cell_type": "code",
   "execution_count": 45,
   "metadata": {},
   "outputs": [],
   "source": [
    "learn.save('fit_head', with_opt=True)"
   ]
  },
  {
   "cell_type": "code",
   "execution_count": 46,
   "metadata": {},
   "outputs": [],
   "source": [
    "learn.load('fit_head', with_opt=True);"
   ]
  },
  {
   "cell_type": "code",
   "execution_count": 47,
   "metadata": {},
   "outputs": [],
   "source": [
    "learn.unfreeze()"
   ]
  },
  {
   "cell_type": "code",
   "execution_count": 48,
   "metadata": {},
   "outputs": [
    {
     "data": {
      "text/html": [
       "<table border=\"1\" class=\"dataframe\">\n",
       "  <thead>\n",
       "    <tr style=\"text-align: left;\">\n",
       "      <th>epoch</th>\n",
       "      <th>train_loss</th>\n",
       "      <th>valid_loss</th>\n",
       "      <th>accuracy</th>\n",
       "      <th>time</th>\n",
       "    </tr>\n",
       "  </thead>\n",
       "  <tbody>\n",
       "    <tr>\n",
       "      <td>0</td>\n",
       "      <td>5.211967</td>\n",
       "      <td>5.262218</td>\n",
       "      <td>0.277679</td>\n",
       "      <td>00:00</td>\n",
       "    </tr>\n",
       "    <tr>\n",
       "      <td>1</td>\n",
       "      <td>5.122273</td>\n",
       "      <td>5.120701</td>\n",
       "      <td>0.283631</td>\n",
       "      <td>00:00</td>\n",
       "    </tr>\n",
       "    <tr>\n",
       "      <td>2</td>\n",
       "      <td>4.997240</td>\n",
       "      <td>5.046171</td>\n",
       "      <td>0.290179</td>\n",
       "      <td>00:00</td>\n",
       "    </tr>\n",
       "    <tr>\n",
       "      <td>3</td>\n",
       "      <td>4.893634</td>\n",
       "      <td>5.014917</td>\n",
       "      <td>0.291964</td>\n",
       "      <td>00:00</td>\n",
       "    </tr>\n",
       "    <tr>\n",
       "      <td>4</td>\n",
       "      <td>4.812481</td>\n",
       "      <td>5.016306</td>\n",
       "      <td>0.292262</td>\n",
       "      <td>00:00</td>\n",
       "    </tr>\n",
       "  </tbody>\n",
       "</table>"
      ],
      "text/plain": [
       "<IPython.core.display.HTML object>"
      ]
     },
     "metadata": {},
     "output_type": "display_data"
    }
   ],
   "source": [
    "learn.fit_one_cycle(5, 1e-3)"
   ]
  },
  {
   "cell_type": "code",
   "execution_count": 49,
   "metadata": {},
   "outputs": [],
   "source": [
    "learn.save('fine_tuned', with_opt=True)"
   ]
  },
  {
   "cell_type": "code",
   "execution_count": 50,
   "metadata": {},
   "outputs": [],
   "source": [
    "learn.load('fine_tuned', with_opt=True);"
   ]
  },
  {
   "cell_type": "code",
   "execution_count": 51,
   "metadata": {},
   "outputs": [
    {
     "data": {
      "text/plain": [
       "'कश्चित् ▁संस्कृत विद् ं ▁कृति म् ▁क्षेमेन्द्र ः ▁अलिखत् ▁च ▁विन्ध्य'"
      ]
     },
     "execution_count": 51,
     "metadata": {},
     "output_type": "execute_result"
    }
   ],
   "source": [
    "learn.predict('कश्चित्',n_words=10)"
   ]
  },
  {
   "cell_type": "code",
   "execution_count": 52,
   "metadata": {},
   "outputs": [],
   "source": [
    "learn.save_encoder('fine_tuned_enc')"
   ]
  },
  {
   "cell_type": "code",
   "execution_count": 27,
   "metadata": {},
   "outputs": [],
   "source": [
    "data_clas = TextClasDataBunch.from_df(path=path, train_df=train_df, valid_df=valid_df, tokenizer=tokenizer, vocab=sanskrit_vocab, text_cols=[0], label_cols=label_cols, bs=16)"
   ]
  },
  {
   "cell_type": "code",
   "execution_count": 28,
   "metadata": {},
   "outputs": [
    {
     "data": {
      "text/html": [
       "<table border=\"1\" class=\"dataframe\">\n",
       "  <thead>\n",
       "    <tr style=\"text-align: right;\">\n",
       "      <th>text</th>\n",
       "      <th>target</th>\n",
       "    </tr>\n",
       "  </thead>\n",
       "  <tbody>\n",
       "    <tr>\n",
       "      <td>▁ x x bo s ▁षड ि मान् ▁पुरुष ो ▁जह ्य ात् ▁भिन्नं ▁नाव मिव ार्णव े ▁अप्र वक्त ार ं ▁आचार्य ं ▁अन ध्याय िन म् ▁ऋत्विज म् ▁। ▁आरक्षित ार ं ▁राजानं ▁भार्या ं ▁च ाऽ प्रिय वाद िनी ं ▁ग्राम काम ं ▁च ▁गोपाल ं ▁वन काम ं ▁च ▁न ाप ितम् ॥</td>\n",
       "      <td>Vidur Niti Slokas</td>\n",
       "    </tr>\n",
       "    <tr>\n",
       "      <td>▁ x x bo s ▁दश ▁धर्म ं ▁न ▁जानन्ति ▁धृतराष्ट्र ▁नि बोध ▁तान् । ▁मत्त ः ▁प्रम त्त ः ▁उन्मत्त ः ▁ श्रान्त ः ▁क्रुद्ध ो ▁बुभुक्षित ः ▁॥ ▁त्व र माण श्च ▁ लु ब्ध श्च ▁भीत ः ▁काम ी ▁च ▁ते ▁दश । ▁तस्माद ेत ेषु ▁सर्वेषु ▁न ▁प्रस ज्ज ेत ▁पण्डितः ▁॥</td>\n",
       "      <td>Vidur Niti Slokas</td>\n",
       "    </tr>\n",
       "    <tr>\n",
       "      <td>▁ x x bo s ▁ना क्रोश ी ▁स्यात् राव मान ी ▁पर स्य ▁मित्र द्रोह ी ▁नो त ▁नि च ोप से वी । ▁न ▁च ाभिमान ी ▁न ▁च ▁ हीन वृत्त ो ं ▁ रु क्षा ं ▁वाच ं ▁र ुष ती ं ▁ वर्ज यी त ॥</td>\n",
       "      <td>Vidur Niti Slokas</td>\n",
       "    </tr>\n",
       "    <tr>\n",
       "      <td>▁ x x bo s ▁म र्म ाण्य स्थ ी नि ▁ह्रदय ं ▁तथा सू न् ▁ , रु क्षा ▁वाच ो ▁निर् दह न्ती ह ▁पुं सा म् । ▁तस्माद् ▁वाच ुम ुष ती मु ग्र रुपा ं ▁धर्म ा राम ो ▁नित्य शो ▁ वर्ज यी त ॥</td>\n",
       "      <td>Vidur Niti Slokas</td>\n",
       "    </tr>\n",
       "    <tr>\n",
       "      <td>▁ x x bo s ▁न ▁वै ▁ भि त्रा ▁जातु ▁ चरन्ति ▁धर्म ं ▁न ▁वै ▁सुखं ▁प्राप्नुवन् ती ह ▁ भि त्र ाः । ▁न ▁वै ▁सुखं भि त्रा ▁गौरवं प्रा प्नुव न्ति ▁न ▁वै ▁ भि त्रा प्र श म ं रो च यन्ति ▁॥</td>\n",
       "      <td>Vidur Niti Slokas</td>\n",
       "    </tr>\n",
       "  </tbody>\n",
       "</table>"
      ],
      "text/plain": [
       "<IPython.core.display.HTML object>"
      ]
     },
     "metadata": {},
     "output_type": "display_data"
    }
   ],
   "source": [
    "data_clas.show_batch()"
   ]
  },
  {
   "cell_type": "code",
   "execution_count": 31,
   "metadata": {},
   "outputs": [],
   "source": [
    "del awd_lstm_config['tie_weights']\n",
    "del awd_lstm_config['out_bias']"
   ]
  },
  {
   "cell_type": "code",
   "execution_count": 32,
   "metadata": {},
   "outputs": [],
   "source": [
    "learn = text_classifier_learner(data_clas, arch=AWD_LSTM, drop_mult=0.5, config=awd_lstm_config)"
   ]
  },
  {
   "cell_type": "code",
   "execution_count": 35,
   "metadata": {
    "scrolled": true
   },
   "outputs": [
    {
     "data": {
      "text/plain": [
       "RNNLearner(data=TextClasDataBunch;\n",
       "\n",
       "Train: LabelList (383 items)\n",
       "x: TextList\n",
       "▁ x x bo s ▁यस्मात् ▁त्र स्य न्ति ▁भूतानि ▁मृग व्या ध ान् मृग ा ▁इव । ▁सागर ान् ता मपि ▁मही ं ▁लब्ध्वा ▁स ▁परि ह ीयते ▁॥,▁ x x bo s ▁एतान् यन ि गृहीत ानि ▁व्या पाद यितु मप्य ल म् । ▁अवि धेय ा ▁इव ाद ान् ता ▁ह याः ▁पथ ि ▁कु सार थि म् ▁॥,▁ x x bo s ▁यावत् स्व स्थ ो ▁ह्य य ▁देह ः ▁ताव न् मृत्यु श्च ▁दूर तः । ▁तावद ात्म हित ं ▁कुर्यात् ▁प्रण ान्ते ▁किं ▁करिष्यति ॥,▁ x x bo s ▁ईश्वरस्य ▁स्मरणं ▁प्रभात े ▁उत्थाय ▁अवश्यं ▁ कर्त ं व्य म् ▁॥,▁ x x bo s ▁लोक यात्रा ▁भयं ▁लज्ज ा ▁दा क्षि ण्य ं ▁त्याग शीलता । ▁पञ्च ▁यत्र ▁न ▁विद्यन्ते ▁न ▁कुर्यात् तत्र ▁सं गति म् ▁॥\n",
       "y: CategoryList\n",
       "Vidur Niti Slokas,Vidur Niti Slokas,Chanakya Slokas,sanskrit-slogan,Chanakya Slokas\n",
       "Path: /home/gaurav/PycharmProjects/nlp-for-sanskrit/classification-slokas;\n",
       "\n",
       "Valid: LabelList (96 items)\n",
       "x: TextList\n",
       "▁ x x bo s ▁यो ▁यस्मिन् ▁कर्माणि ▁कुशल स्त ं ▁ तस् मित्र ैव ▁योज येत् ▁॥,▁ x x bo s ▁अध्ययनेन ▁/ ▁अध्ययनं ▁वी ना ▁ज्ञानं ▁न ▁भवति ▁॥,▁ x x bo s ▁पुष्प ं ▁पुष्प ं ▁वि चि न् वीत ▁मूल च्छेद ं ▁न ▁कार येत् ▁। ▁माल ाकार ▁इव ा राम े ▁न ▁यथा ङ्ग र कारक ः ▁॥,▁ x x bo s ▁ मृ ज या ▁रक्ष ्यते ▁रूप म् ▁॥,▁ x x bo s ▁मूर्ख श्च ि राय ुर् जात ोऽपि ▁ तस् मा ज् जात मृत ो ▁वर ः । ▁मृतः ▁स ▁च ा ल्प दुःख ाय ▁या व ज् जीव ं ▁जड ो ▁ दह ेत् ॥\n",
       "y: CategoryList\n",
       "sanskrit-slogan,sanskrit-slogan,Vidur Niti Slokas,sanskrit-slogan,Chanakya Slokas\n",
       "Path: /home/gaurav/PycharmProjects/nlp-for-sanskrit/classification-slokas;\n",
       "\n",
       "Test: None, model=SequentialRNN(\n",
       "  (0): MultiBatchEncoder(\n",
       "    (module): AWD_LSTM(\n",
       "      (encoder): Embedding(20000, 400, padding_idx=1)\n",
       "      (encoder_dp): EmbeddingDropout(\n",
       "        (emb): Embedding(20000, 400, padding_idx=1)\n",
       "      )\n",
       "      (rnns): ModuleList(\n",
       "        (0): WeightDropout(\n",
       "          (module): LSTM(400, 1150, batch_first=True)\n",
       "        )\n",
       "        (1): WeightDropout(\n",
       "          (module): LSTM(1150, 1150, batch_first=True)\n",
       "        )\n",
       "        (2): WeightDropout(\n",
       "          (module): LSTM(1150, 400, batch_first=True)\n",
       "        )\n",
       "      )\n",
       "      (input_dp): RNNDropout()\n",
       "      (hidden_dps): ModuleList(\n",
       "        (0): RNNDropout()\n",
       "        (1): RNNDropout()\n",
       "        (2): RNNDropout()\n",
       "      )\n",
       "    )\n",
       "  )\n",
       "  (1): PoolingLinearClassifier(\n",
       "    (layers): Sequential(\n",
       "      (0): BatchNorm1d(1200, eps=1e-05, momentum=0.1, affine=True, track_running_stats=True)\n",
       "      (1): Dropout(p=0.05)\n",
       "      (2): Linear(in_features=1200, out_features=50, bias=True)\n",
       "      (3): ReLU(inplace)\n",
       "      (4): BatchNorm1d(50, eps=1e-05, momentum=0.1, affine=True, track_running_stats=True)\n",
       "      (5): Dropout(p=0.1)\n",
       "      (6): Linear(in_features=50, out_features=3, bias=True)\n",
       "    )\n",
       "  )\n",
       "), opt_func=functools.partial(<class 'torch.optim.adam.Adam'>, betas=(0.9, 0.99)), loss_func=FlattenedLoss of CrossEntropyLoss(), metrics=[<function accuracy at 0x7f990e26f4d0>], true_wd=True, bn_wd=True, wd=0.01, train_bn=True, path=PosixPath('/home/gaurav/PycharmProjects/nlp-for-sanskrit/classification-slokas'), model_dir='models', callback_fns=[functools.partial(<class 'fastai.basic_train.Recorder'>, add_time=True, silent=False)], callbacks=[RNNTrainer\n",
       "learn: ...\n",
       "alpha: 2.0\n",
       "beta: 1.0], layer_groups=[Sequential(\n",
       "  (0): Embedding(20000, 400, padding_idx=1)\n",
       "  (1): EmbeddingDropout(\n",
       "    (emb): Embedding(20000, 400, padding_idx=1)\n",
       "  )\n",
       "), Sequential(\n",
       "  (0): WeightDropout(\n",
       "    (module): LSTM(400, 1150, batch_first=True)\n",
       "  )\n",
       "  (1): RNNDropout()\n",
       "), Sequential(\n",
       "  (0): WeightDropout(\n",
       "    (module): LSTM(1150, 1150, batch_first=True)\n",
       "  )\n",
       "  (1): RNNDropout()\n",
       "), Sequential(\n",
       "  (0): WeightDropout(\n",
       "    (module): LSTM(1150, 400, batch_first=True)\n",
       "  )\n",
       "  (1): RNNDropout()\n",
       "), Sequential(\n",
       "  (0): PoolingLinearClassifier(\n",
       "    (layers): Sequential(\n",
       "      (0): BatchNorm1d(1200, eps=1e-05, momentum=0.1, affine=True, track_running_stats=True)\n",
       "      (1): Dropout(p=0.05)\n",
       "      (2): Linear(in_features=1200, out_features=50, bias=True)\n",
       "      (3): ReLU(inplace)\n",
       "      (4): BatchNorm1d(50, eps=1e-05, momentum=0.1, affine=True, track_running_stats=True)\n",
       "      (5): Dropout(p=0.1)\n",
       "      (6): Linear(in_features=50, out_features=3, bias=True)\n",
       "    )\n",
       "  )\n",
       ")], add_time=True, silent=False, cb_fns_registered=False)"
      ]
     },
     "execution_count": 35,
     "metadata": {},
     "output_type": "execute_result"
    }
   ],
   "source": [
    "learn.load_encoder('fine_tuned_enc')"
   ]
  },
  {
   "cell_type": "code",
   "execution_count": 36,
   "metadata": {},
   "outputs": [],
   "source": [
    "learn.freeze()"
   ]
  },
  {
   "cell_type": "code",
   "execution_count": 37,
   "metadata": {},
   "outputs": [
    {
     "data": {
      "text/html": [],
      "text/plain": [
       "<IPython.core.display.HTML object>"
      ]
     },
     "metadata": {},
     "output_type": "display_data"
    },
    {
     "name": "stdout",
     "output_type": "stream",
     "text": [
      "LR Finder is complete, type {learner_name}.recorder.plot() to see the graph.\n"
     ]
    }
   ],
   "source": [
    "learn.lr_find()"
   ]
  },
  {
   "cell_type": "code",
   "execution_count": 38,
   "metadata": {},
   "outputs": [
    {
     "data": {
      "image/png": "[encoded data removed]",
      "text/plain": [
       "<Figure size 432x288 with 1 Axes>"
      ]
     },
     "metadata": {
      "needs_background": "light"
     },
     "output_type": "display_data"
    }
   ],
   "source": [
    "learn.recorder.plot()"
   ]
  },
  {
   "cell_type": "code",
   "execution_count": 39,
   "metadata": {},
   "outputs": [
    {
     "data": {
      "text/plain": [
       "CrossEntropyLoss()"
      ]
     },
     "execution_count": 39,
     "metadata": {},
     "output_type": "execute_result"
    }
   ],
   "source": [
    "learn.loss_func.func"
   ]
  },
  {
   "cell_type": "code",
   "execution_count": 40,
   "metadata": {},
   "outputs": [],
   "source": [
    "kappa = KappaScore()"
   ]
  },
  {
   "cell_type": "code",
   "execution_count": 41,
   "metadata": {},
   "outputs": [],
   "source": [
    "learn.metrics = [kappa, accuracy]"
   ]
  },
  {
   "cell_type": "code",
   "execution_count": 42,
   "metadata": {},
   "outputs": [
    {
     "data": {
      "text/html": [
       "<table border=\"1\" class=\"dataframe\">\n",
       "  <thead>\n",
       "    <tr style=\"text-align: left;\">\n",
       "      <th>epoch</th>\n",
       "      <th>train_loss</th>\n",
       "      <th>valid_loss</th>\n",
       "      <th>kappa_score</th>\n",
       "      <th>accuracy</th>\n",
       "      <th>time</th>\n",
       "    </tr>\n",
       "  </thead>\n",
       "  <tbody>\n",
       "    <tr>\n",
       "      <td>0</td>\n",
       "      <td>1.024088</td>\n",
       "      <td>0.944940</td>\n",
       "      <td>0.432720</td>\n",
       "      <td>0.635417</td>\n",
       "      <td>00:01</td>\n",
       "    </tr>\n",
       "  </tbody>\n",
       "</table>"
      ],
      "text/plain": [
       "<IPython.core.display.HTML object>"
      ]
     },
     "metadata": {},
     "output_type": "display_data"
    }
   ],
   "source": [
    "learn.fit_one_cycle(1, 1e-2)"
   ]
  },
  {
   "cell_type": "code",
   "execution_count": 43,
   "metadata": {},
   "outputs": [
    {
     "data": {
      "text/html": [
       "<table border=\"1\" class=\"dataframe\">\n",
       "  <thead>\n",
       "    <tr style=\"text-align: left;\">\n",
       "      <th>epoch</th>\n",
       "      <th>train_loss</th>\n",
       "      <th>valid_loss</th>\n",
       "      <th>kappa_score</th>\n",
       "      <th>accuracy</th>\n",
       "      <th>time</th>\n",
       "    </tr>\n",
       "  </thead>\n",
       "  <tbody>\n",
       "    <tr>\n",
       "      <td>0</td>\n",
       "      <td>0.938648</td>\n",
       "      <td>0.783173</td>\n",
       "      <td>0.511533</td>\n",
       "      <td>0.687500</td>\n",
       "      <td>00:01</td>\n",
       "    </tr>\n",
       "  </tbody>\n",
       "</table>"
      ],
      "text/plain": [
       "<IPython.core.display.HTML object>"
      ]
     },
     "metadata": {},
     "output_type": "display_data"
    }
   ],
   "source": [
    "learn.freeze_to(-2)\n",
    "learn.fit_one_cycle(1, 1e-2)"
   ]
  },
  {
   "cell_type": "code",
   "execution_count": 44,
   "metadata": {},
   "outputs": [],
   "source": [
    "learn.save('second-full')"
   ]
  },
  {
   "cell_type": "code",
   "execution_count": 45,
   "metadata": {
    "scrolled": true
   },
   "outputs": [
    {
     "data": {
      "text/plain": [
       "RNNLearner(data=TextClasDataBunch;\n",
       "\n",
       "Train: LabelList (383 items)\n",
       "x: TextList\n",
       "▁ x x bo s ▁यस्मात् ▁त्र स्य न्ति ▁भूतानि ▁मृग व्या ध ान् मृग ा ▁इव । ▁सागर ान् ता मपि ▁मही ं ▁लब्ध्वा ▁स ▁परि ह ीयते ▁॥,▁ x x bo s ▁एतान् यन ि गृहीत ानि ▁व्या पाद यितु मप्य ल म् । ▁अवि धेय ा ▁इव ाद ान् ता ▁ह याः ▁पथ ि ▁कु सार थि म् ▁॥,▁ x x bo s ▁यावत् स्व स्थ ो ▁ह्य य ▁देह ः ▁ताव न् मृत्यु श्च ▁दूर तः । ▁तावद ात्म हित ं ▁कुर्यात् ▁प्रण ान्ते ▁किं ▁करिष्यति ॥,▁ x x bo s ▁ईश्वरस्य ▁स्मरणं ▁प्रभात े ▁उत्थाय ▁अवश्यं ▁ कर्त ं व्य म् ▁॥,▁ x x bo s ▁लोक यात्रा ▁भयं ▁लज्ज ा ▁दा क्षि ण्य ं ▁त्याग शीलता । ▁पञ्च ▁यत्र ▁न ▁विद्यन्ते ▁न ▁कुर्यात् तत्र ▁सं गति म् ▁॥\n",
       "y: CategoryList\n",
       "Vidur Niti Slokas,Vidur Niti Slokas,Chanakya Slokas,sanskrit-slogan,Chanakya Slokas\n",
       "Path: /home/gaurav/PycharmProjects/nlp-for-sanskrit/classification-slokas;\n",
       "\n",
       "Valid: LabelList (96 items)\n",
       "x: TextList\n",
       "▁ x x bo s ▁यो ▁यस्मिन् ▁कर्माणि ▁कुशल स्त ं ▁ तस् मित्र ैव ▁योज येत् ▁॥,▁ x x bo s ▁अध्ययनेन ▁/ ▁अध्ययनं ▁वी ना ▁ज्ञानं ▁न ▁भवति ▁॥,▁ x x bo s ▁पुष्प ं ▁पुष्प ं ▁वि चि न् वीत ▁मूल च्छेद ं ▁न ▁कार येत् ▁। ▁माल ाकार ▁इव ा राम े ▁न ▁यथा ङ्ग र कारक ः ▁॥,▁ x x bo s ▁ मृ ज या ▁रक्ष ्यते ▁रूप म् ▁॥,▁ x x bo s ▁मूर्ख श्च ि राय ुर् जात ोऽपि ▁ तस् मा ज् जात मृत ो ▁वर ः । ▁मृतः ▁स ▁च ा ल्प दुःख ाय ▁या व ज् जीव ं ▁जड ो ▁ दह ेत् ॥\n",
       "y: CategoryList\n",
       "sanskrit-slogan,sanskrit-slogan,Vidur Niti Slokas,sanskrit-slogan,Chanakya Slokas\n",
       "Path: /home/gaurav/PycharmProjects/nlp-for-sanskrit/classification-slokas;\n",
       "\n",
       "Test: None, model=SequentialRNN(\n",
       "  (0): MultiBatchEncoder(\n",
       "    (module): AWD_LSTM(\n",
       "      (encoder): Embedding(20000, 400, padding_idx=1)\n",
       "      (encoder_dp): EmbeddingDropout(\n",
       "        (emb): Embedding(20000, 400, padding_idx=1)\n",
       "      )\n",
       "      (rnns): ModuleList(\n",
       "        (0): WeightDropout(\n",
       "          (module): LSTM(400, 1150, batch_first=True)\n",
       "        )\n",
       "        (1): WeightDropout(\n",
       "          (module): LSTM(1150, 1150, batch_first=True)\n",
       "        )\n",
       "        (2): WeightDropout(\n",
       "          (module): LSTM(1150, 400, batch_first=True)\n",
       "        )\n",
       "      )\n",
       "      (input_dp): RNNDropout()\n",
       "      (hidden_dps): ModuleList(\n",
       "        (0): RNNDropout()\n",
       "        (1): RNNDropout()\n",
       "        (2): RNNDropout()\n",
       "      )\n",
       "    )\n",
       "  )\n",
       "  (1): PoolingLinearClassifier(\n",
       "    (layers): Sequential(\n",
       "      (0): BatchNorm1d(1200, eps=1e-05, momentum=0.1, affine=True, track_running_stats=True)\n",
       "      (1): Dropout(p=0.05)\n",
       "      (2): Linear(in_features=1200, out_features=50, bias=True)\n",
       "      (3): ReLU(inplace)\n",
       "      (4): BatchNorm1d(50, eps=1e-05, momentum=0.1, affine=True, track_running_stats=True)\n",
       "      (5): Dropout(p=0.1)\n",
       "      (6): Linear(in_features=50, out_features=3, bias=True)\n",
       "    )\n",
       "  )\n",
       "), opt_func=functools.partial(<class 'torch.optim.adam.Adam'>, betas=(0.9, 0.99)), loss_func=FlattenedLoss of CrossEntropyLoss(), metrics=[KappaScore(weights=None), <function accuracy at 0x7f990e26f4d0>], true_wd=True, bn_wd=True, wd=0.01, train_bn=True, path=PosixPath('/home/gaurav/PycharmProjects/nlp-for-sanskrit/classification-slokas'), model_dir='models', callback_fns=[functools.partial(<class 'fastai.basic_train.Recorder'>, add_time=True, silent=False)], callbacks=[RNNTrainer\n",
       "learn: ...\n",
       "alpha: 2.0\n",
       "beta: 1.0], layer_groups=[Sequential(\n",
       "  (0): Embedding(20000, 400, padding_idx=1)\n",
       "  (1): EmbeddingDropout(\n",
       "    (emb): Embedding(20000, 400, padding_idx=1)\n",
       "  )\n",
       "), Sequential(\n",
       "  (0): WeightDropout(\n",
       "    (module): LSTM(400, 1150, batch_first=True)\n",
       "  )\n",
       "  (1): RNNDropout()\n",
       "), Sequential(\n",
       "  (0): WeightDropout(\n",
       "    (module): LSTM(1150, 1150, batch_first=True)\n",
       "  )\n",
       "  (1): RNNDropout()\n",
       "), Sequential(\n",
       "  (0): WeightDropout(\n",
       "    (module): LSTM(1150, 400, batch_first=True)\n",
       "  )\n",
       "  (1): RNNDropout()\n",
       "), Sequential(\n",
       "  (0): PoolingLinearClassifier(\n",
       "    (layers): Sequential(\n",
       "      (0): BatchNorm1d(1200, eps=1e-05, momentum=0.1, affine=True, track_running_stats=True)\n",
       "      (1): Dropout(p=0.05)\n",
       "      (2): Linear(in_features=1200, out_features=50, bias=True)\n",
       "      (3): ReLU(inplace)\n",
       "      (4): BatchNorm1d(50, eps=1e-05, momentum=0.1, affine=True, track_running_stats=True)\n",
       "      (5): Dropout(p=0.1)\n",
       "      (6): Linear(in_features=50, out_features=3, bias=True)\n",
       "    )\n",
       "  )\n",
       ")], add_time=True, silent=False, cb_fns_registered=True)"
      ]
     },
     "execution_count": 45,
     "metadata": {},
     "output_type": "execute_result"
    }
   ],
   "source": [
    "learn.load('second-full')"
   ]
  },
  {
   "cell_type": "code",
   "execution_count": 46,
   "metadata": {},
   "outputs": [
    {
     "data": {
      "text/html": [
       "<table border=\"1\" class=\"dataframe\">\n",
       "  <thead>\n",
       "    <tr style=\"text-align: left;\">\n",
       "      <th>epoch</th>\n",
       "      <th>train_loss</th>\n",
       "      <th>valid_loss</th>\n",
       "      <th>kappa_score</th>\n",
       "      <th>accuracy</th>\n",
       "      <th>time</th>\n",
       "    </tr>\n",
       "  </thead>\n",
       "  <tbody>\n",
       "    <tr>\n",
       "      <td>0</td>\n",
       "      <td>0.815710</td>\n",
       "      <td>0.725703</td>\n",
       "      <td>0.546482</td>\n",
       "      <td>0.708333</td>\n",
       "      <td>00:01</td>\n",
       "    </tr>\n",
       "    <tr>\n",
       "      <td>1</td>\n",
       "      <td>0.807308</td>\n",
       "      <td>0.628630</td>\n",
       "      <td>0.761431</td>\n",
       "      <td>0.843750</td>\n",
       "      <td>00:01</td>\n",
       "    </tr>\n",
       "    <tr>\n",
       "      <td>2</td>\n",
       "      <td>0.763013</td>\n",
       "      <td>0.598177</td>\n",
       "      <td>0.745105</td>\n",
       "      <td>0.833333</td>\n",
       "      <td>00:01</td>\n",
       "    </tr>\n",
       "    <tr>\n",
       "      <td>3</td>\n",
       "      <td>0.732741</td>\n",
       "      <td>0.599553</td>\n",
       "      <td>0.696859</td>\n",
       "      <td>0.802083</td>\n",
       "      <td>00:01</td>\n",
       "    </tr>\n",
       "    <tr>\n",
       "      <td>4</td>\n",
       "      <td>0.697256</td>\n",
       "      <td>0.591389</td>\n",
       "      <td>0.711712</td>\n",
       "      <td>0.812500</td>\n",
       "      <td>00:01</td>\n",
       "    </tr>\n",
       "  </tbody>\n",
       "</table>"
      ],
      "text/plain": [
       "<IPython.core.display.HTML object>"
      ]
     },
     "metadata": {},
     "output_type": "display_data"
    },
    {
     "name": "stdout",
     "output_type": "stream",
     "text": [
      "Better model found at epoch 0 with accuracy value: 0.7083333134651184.\n",
      "Better model found at epoch 1 with accuracy value: 0.84375.\n"
     ]
    }
   ],
   "source": [
    "learn.unfreeze()\n",
    "learn.fit_one_cycle(5, 1e-3, callbacks=[callbacks.SaveModelCallback(learn, every='improvement', monitor='accuracy', name='final')])"
   ]
  },
  {
   "cell_type": "code",
   "execution_count": 47,
   "metadata": {},
   "outputs": [
    {
     "data": {
      "text/plain": [
       "(Category Chanakya Slokas, tensor(0), tensor([0.7695, 0.0804, 0.1500]))"
      ]
     },
     "execution_count": 47,
     "metadata": {},
     "output_type": "execute_result"
    }
   ],
   "source": [
    "learn.predict(' न दुर्जन: साधुदशामुपैति बहुप्रकारैरपि शिक्ष्यमाण: । आमूलसिक्त: पयसा घृतेन न निम्बवृक्षो मधुरत्वमेति ।।')"
   ]
  },
  {
   "cell_type": "code",
   "execution_count": 48,
   "metadata": {},
   "outputs": [
    {
     "data": {
      "text/plain": [
       "(Category Chanakya Slokas, tensor(0), tensor([0.6119, 0.2062, 0.1819]))"
      ]
     },
     "execution_count": 48,
     "metadata": {},
     "output_type": "execute_result"
    }
   ],
   "source": [
    "learn.predict(\" गृहाऽऽसक्तस्य नो विद्या नो दया मासंभोजिन: । द्रव्यलुब्धस्य नो सत्यं स्त्रैणस्य न पवित्रता ।।\")"
   ]
  },
  {
   "cell_type": "code",
   "execution_count": 49,
   "metadata": {},
   "outputs": [
    {
     "data": {
      "text/plain": [
       "(Category Vidur Niti Slokas, tensor(1), tensor([0.3522, 0.4332, 0.2147]))"
      ]
     },
     "execution_count": 49,
     "metadata": {},
     "output_type": "execute_result"
    }
   ],
   "source": [
    "learn.predict(\"अनुबंधानपक्षेत सानुबन्धेषु कर्मसु। सम्प्रधार्य च कुर्वीत न वेगेन समाचरेत्।\")"
   ]
  },
  {
   "cell_type": "code",
   "execution_count": 50,
   "metadata": {},
   "outputs": [
    {
     "data": {
      "text/plain": [
       "(Category Vidur Niti Slokas, tensor(1), tensor([0.3665, 0.4100, 0.2234]))"
      ]
     },
     "execution_count": 50,
     "metadata": {},
     "output_type": "execute_result"
    }
   ],
   "source": [
    "learn.predict(\"नद्वाविमौ पुरुषौ राजन स्वर्गस्योपरि तिष्ठत: । प्रभुश्च क्षमया युक्तो दरिद्रश्च प्रदानवान्।।\")"
   ]
  },
  {
   "cell_type": "code",
   "execution_count": null,
   "metadata": {},
   "outputs": [],
   "source": []
  }
 ],
 "metadata": {
  "kernelspec": {
   "display_name": "Python 3",
   "language": "python",
   "name": "python3"
  },
  "language_info": {
   "codemirror_mode": {
    "name": "ipython",
    "version": 3
   },
   "file_extension": ".py",
   "mimetype": "text/x-python",
   "name": "python",
   "nbconvert_exporter": "python",
   "pygments_lexer": "ipython3",
   "version": "3.7.3"
  }
 },
 "nbformat": 4,
 "nbformat_minor": 2
}
