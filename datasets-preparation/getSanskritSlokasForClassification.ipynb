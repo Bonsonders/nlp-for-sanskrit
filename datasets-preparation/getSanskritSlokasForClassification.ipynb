{
 "cells": [
  {
   "cell_type": "code",
   "execution_count": 2,
   "metadata": {},
   "outputs": [],
   "source": [
    "from urllib.request import urlopen\n",
    "import urllib.parse\n",
    "from bs4 import BeautifulSoup\n",
    "import re\n",
    "import pickle"
   ]
  },
  {
   "cell_type": "code",
   "execution_count": 44,
   "metadata": {},
   "outputs": [],
   "source": [
    "# slokas = {}"
   ]
  },
  {
   "cell_type": "code",
   "execution_count": 258,
   "metadata": {},
   "outputs": [],
   "source": [
    "urls = []\n",
    "# urls.append('http://sanskritslokas.com/updesh-slokas.html')\n",
    "for i in range(1,15):\n",
    "    urls.append('http://sanskritslokas.com/sanskrit-slogan' + str(i) + '.html')"
   ]
  },
  {
   "cell_type": "code",
   "execution_count": 259,
   "metadata": {},
   "outputs": [
    {
     "data": {
      "text/plain": [
       "['http://sanskritslokas.com/sanskrit-slogan1.html',\n",
       " 'http://sanskritslokas.com/sanskrit-slogan2.html',\n",
       " 'http://sanskritslokas.com/sanskrit-slogan3.html',\n",
       " 'http://sanskritslokas.com/sanskrit-slogan4.html',\n",
       " 'http://sanskritslokas.com/sanskrit-slogan5.html',\n",
       " 'http://sanskritslokas.com/sanskrit-slogan6.html',\n",
       " 'http://sanskritslokas.com/sanskrit-slogan7.html',\n",
       " 'http://sanskritslokas.com/sanskrit-slogan8.html',\n",
       " 'http://sanskritslokas.com/sanskrit-slogan9.html',\n",
       " 'http://sanskritslokas.com/sanskrit-slogan10.html',\n",
       " 'http://sanskritslokas.com/sanskrit-slogan11.html',\n",
       " 'http://sanskritslokas.com/sanskrit-slogan12.html',\n",
       " 'http://sanskritslokas.com/sanskrit-slogan13.html',\n",
       " 'http://sanskritslokas.com/sanskrit-slogan14.html']"
      ]
     },
     "execution_count": 259,
     "metadata": {},
     "output_type": "execute_result"
    }
   ],
   "source": [
    "urls"
   ]
  },
  {
   "cell_type": "code",
   "execution_count": 260,
   "metadata": {},
   "outputs": [],
   "source": [
    "title = 'sanskrit-slogan'"
   ]
  },
  {
   "cell_type": "code",
   "execution_count": 261,
   "metadata": {},
   "outputs": [],
   "source": [
    "slokas[title] = {\n",
    "        'sanskrit': [],\n",
    "        'hindi': []\n",
    "    }"
   ]
  },
  {
   "cell_type": "code",
   "execution_count": 262,
   "metadata": {},
   "outputs": [],
   "source": [
    "for url in urls:\n",
    "    html_doc = ''\n",
    "    with urlopen(url) as response:\n",
    "        for line in response:\n",
    "            line = line.decode('utf-8')\n",
    "            html_doc = html_doc + line.replace('\\n','')\n",
    "    soup = BeautifulSoup(html_doc, 'html.parser')\n",
    "    blocks = soup.find_all('blockquote')\n",
    "    for block in blocks:\n",
    "        paras = block.find_all('p')\n",
    "        slokas[title]['sanskrit'].append(paras[0].text)\n",
    "        if len(paras) == 2:\n",
    "            slokas[title]['hindi'].append(paras[1].text)\n",
    "        else:\n",
    "            slokas[title]['hindi'].append('')"
   ]
  },
  {
   "cell_type": "code",
   "execution_count": 263,
   "metadata": {},
   "outputs": [
    {
     "data": {
      "text/plain": [
       "'विद्या परमं बलम ॥  '"
      ]
     },
     "execution_count": 263,
     "metadata": {},
     "output_type": "execute_result"
    }
   ],
   "source": [
    "slokas[title]['sanskrit'][1]"
   ]
  },
  {
   "cell_type": "code",
   "execution_count": 264,
   "metadata": {},
   "outputs": [
    {
     "data": {
      "text/plain": [
       "'विद्या सबसे महत्वपूर्ण ताकत है ।                     '"
      ]
     },
     "execution_count": 264,
     "metadata": {},
     "output_type": "execute_result"
    }
   ],
   "source": [
    "slokas[title]['hindi'][1]"
   ]
  },
  {
   "cell_type": "code",
   "execution_count": 265,
   "metadata": {},
   "outputs": [
    {
     "data": {
      "text/plain": [
       "(156, 156)"
      ]
     },
     "execution_count": 265,
     "metadata": {},
     "output_type": "execute_result"
    }
   ],
   "source": [
    "len(slokas[title]['sanskrit']), len(slokas[title]['hindi'])"
   ]
  },
  {
   "cell_type": "code",
   "execution_count": 266,
   "metadata": {},
   "outputs": [
    {
     "data": {
      "text/plain": [
       "22"
      ]
     },
     "execution_count": 266,
     "metadata": {},
     "output_type": "execute_result"
    }
   ],
   "source": [
    "len(slokas.keys())"
   ]
  },
  {
   "cell_type": "code",
   "execution_count": 267,
   "metadata": {},
   "outputs": [],
   "source": [
    "with open('slokas.pkl', 'wb') as f:\n",
    "    pickle.dump(slokas,f)"
   ]
  },
  {
   "cell_type": "code",
   "execution_count": null,
   "metadata": {},
   "outputs": [],
   "source": []
  }
 ],
 "metadata": {
  "kernelspec": {
   "display_name": "Python 3",
   "language": "python",
   "name": "python3"
  },
  "language_info": {
   "codemirror_mode": {
    "name": "ipython",
    "version": 3
   },
   "file_extension": ".py",
   "mimetype": "text/x-python",
   "name": "python",
   "nbconvert_exporter": "python",
   "pygments_lexer": "ipython3",
   "version": "3.6.7"
  }
 },
 "nbformat": 4,
 "nbformat_minor": 2
}
