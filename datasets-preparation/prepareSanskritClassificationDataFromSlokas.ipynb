{
 "cells": [
  {
   "cell_type": "code",
   "execution_count": 1,
   "metadata": {},
   "outputs": [],
   "source": [
    "import pickle\n",
    "import pandas as pd\n",
    "import re\n",
    "import numpy as np"
   ]
  },
  {
   "cell_type": "code",
   "execution_count": 2,
   "metadata": {},
   "outputs": [],
   "source": [
    "with open('slokas.pkl','rb') as f:\n",
    "    slokas = pickle.load(f)"
   ]
  },
  {
   "cell_type": "code",
   "execution_count": 3,
   "metadata": {},
   "outputs": [
    {
     "data": {
      "text/plain": [
       "dict_keys(['Bhagavad Gita', 'Chanakya Slokas', 'Vidur Niti Slokas', 'Vidya', 'Guru', 'Prayers', 'Subhashitani', 'Durga Saptashloki', 'popular-slokas', 'Sanskrit Shlokas', 'Ganesh Mantra', 'Durga Mantra', 'Shiva Mantra', 'Saraswati Mantra', 'Lakshmi Mantra', 'Krishna Mantra', 'Valmiki Ramayana', 'satya-slokas', 'paropkar-slokas', 'vyayam-slokas', 'updesh-slokas', 'sanskrit-slogan'])"
      ]
     },
     "execution_count": 3,
     "metadata": {},
     "output_type": "execute_result"
    }
   ],
   "source": [
    "slokas.keys()"
   ]
  },
  {
   "cell_type": "code",
   "execution_count": 5,
   "metadata": {},
   "outputs": [
    {
     "name": "stdout",
     "output_type": "stream",
     "text": [
      "Bhagavad Gita 39\n",
      "Chanakya Slokas 177\n",
      "Vidur Niti Slokas 146\n",
      "Vidya 25\n",
      "Guru 20\n",
      "Prayers 14\n",
      "Subhashitani 41\n",
      "Durga Saptashloki 7\n",
      "popular-slokas 50\n",
      "Sanskrit Shlokas 24\n",
      "Ganesh Mantra 62\n",
      "Durga Mantra 50\n",
      "Shiva Mantra 42\n",
      "Saraswati Mantra 13\n",
      "Lakshmi Mantra 23\n",
      "Krishna Mantra 2\n",
      "Valmiki Ramayana 21\n",
      "satya-slokas 14\n",
      "paropkar-slokas 9\n",
      "vyayam-slokas 7\n",
      "updesh-slokas 10\n",
      "sanskrit-slogan 156\n"
     ]
    }
   ],
   "source": [
    "for key, value in slokas.items():\n",
    "    print(key, len(value['sanskrit']))"
   ]
  },
  {
   "cell_type": "code",
   "execution_count": 6,
   "metadata": {},
   "outputs": [],
   "source": [
    "# Classification between Chanakya Slokas, Vidur Niti Slokas or Sanskrit Slogan"
   ]
  },
  {
   "cell_type": "code",
   "execution_count": 10,
   "metadata": {},
   "outputs": [],
   "source": [
    "all_slokas = []\n",
    "all_classes = []\n",
    "for cls in ['Chanakya Slokas', 'Vidur Niti Slokas', 'sanskrit-slogan']:\n",
    "    for s in slokas[cls]['sanskrit']:\n",
    "        all_slokas.append(s)\n",
    "        all_classes.append(cls)"
   ]
  },
  {
   "cell_type": "code",
   "execution_count": 11,
   "metadata": {},
   "outputs": [
    {
     "data": {
      "text/plain": [
       "(479, 479)"
      ]
     },
     "execution_count": 11,
     "metadata": {},
     "output_type": "execute_result"
    }
   ],
   "source": [
    "len(all_slokas), len(all_classes)"
   ]
  },
  {
   "cell_type": "code",
   "execution_count": 12,
   "metadata": {},
   "outputs": [
    {
     "data": {
      "text/plain": [
       "' कश्चित् कस्यचिन्मित्रं, न कश्चित् कस्यचित् रिपु:।                        अर्थतस्तु निबध्यन्ते, मित्राणि रिपवस्तथा ॥'"
      ]
     },
     "execution_count": 12,
     "metadata": {},
     "output_type": "execute_result"
    }
   ],
   "source": [
    "all_slokas[0]"
   ]
  },
  {
   "cell_type": "code",
   "execution_count": 13,
   "metadata": {},
   "outputs": [
    {
     "data": {
      "text/plain": [
       "'Chanakya Slokas'"
      ]
     },
     "execution_count": 13,
     "metadata": {},
     "output_type": "execute_result"
    }
   ],
   "source": [
    "all_classes[0]"
   ]
  },
  {
   "cell_type": "code",
   "execution_count": 14,
   "metadata": {},
   "outputs": [],
   "source": [
    "df = pd.DataFrame({'Sloka':all_slokas, 'Class':all_classes})"
   ]
  },
  {
   "cell_type": "code",
   "execution_count": 19,
   "metadata": {},
   "outputs": [
    {
     "data": {
      "text/html": [
       "<div>\n",
       "<style scoped>\n",
       "    .dataframe tbody tr th:only-of-type {\n",
       "        vertical-align: middle;\n",
       "    }\n",
       "\n",
       "    .dataframe tbody tr th {\n",
       "        vertical-align: top;\n",
       "    }\n",
       "\n",
       "    .dataframe thead th {\n",
       "        text-align: right;\n",
       "    }\n",
       "</style>\n",
       "<table border=\"1\" class=\"dataframe\">\n",
       "  <thead>\n",
       "    <tr style=\"text-align: right;\">\n",
       "      <th></th>\n",
       "      <th>Sloka</th>\n",
       "      <th>Class</th>\n",
       "    </tr>\n",
       "  </thead>\n",
       "  <tbody>\n",
       "    <tr>\n",
       "      <th>0</th>\n",
       "      <td>कश्चित् कस्यचिन्मित्रं, न कश्चित् कस्यचित् रि...</td>\n",
       "      <td>Chanakya Slokas</td>\n",
       "    </tr>\n",
       "    <tr>\n",
       "      <th>1</th>\n",
       "      <td>मूर्खशिष्योपदेशेन दुष्टास्त्रीभरणेन च।        ...</td>\n",
       "      <td>Chanakya Slokas</td>\n",
       "    </tr>\n",
       "    <tr>\n",
       "      <th>2</th>\n",
       "      <td>दुष्टा भार्या शठं मित्रं भृत्यश्चोत्तरदायकः।  ...</td>\n",
       "      <td>Chanakya Slokas</td>\n",
       "    </tr>\n",
       "    <tr>\n",
       "      <th>3</th>\n",
       "      <td>धनिकः श्रोत्रियो राजा नदी वैद्यस्तु पञ्चमः।   ...</td>\n",
       "      <td>Chanakya Slokas</td>\n",
       "    </tr>\n",
       "    <tr>\n",
       "      <th>4</th>\n",
       "      <td>जानीयात्प्रेषणेभृत्यान् बान्धवान्व्यसनाऽऽगमे। ...</td>\n",
       "      <td>Chanakya Slokas</td>\n",
       "    </tr>\n",
       "  </tbody>\n",
       "</table>\n",
       "</div>"
      ],
      "text/plain": [
       "                                               Sloka            Class\n",
       "0   कश्चित् कस्यचिन्मित्रं, न कश्चित् कस्यचित् रि...  Chanakya Slokas\n",
       "1  मूर्खशिष्योपदेशेन दुष्टास्त्रीभरणेन च।        ...  Chanakya Slokas\n",
       "2  दुष्टा भार्या शठं मित्रं भृत्यश्चोत्तरदायकः।  ...  Chanakya Slokas\n",
       "3  धनिकः श्रोत्रियो राजा नदी वैद्यस्तु पञ्चमः।   ...  Chanakya Slokas\n",
       "4  जानीयात्प्रेषणेभृत्यान् बान्धवान्व्यसनाऽऽगमे। ...  Chanakya Slokas"
      ]
     },
     "execution_count": 19,
     "metadata": {},
     "output_type": "execute_result"
    }
   ],
   "source": [
    "df.head()"
   ]
  },
  {
   "cell_type": "code",
   "execution_count": 18,
   "metadata": {},
   "outputs": [],
   "source": [
    "df.to_csv('sloka_classification.csv', index=False)"
   ]
  },
  {
   "cell_type": "code",
   "execution_count": 20,
   "metadata": {},
   "outputs": [],
   "source": [
    "df = pd.read_csv('sloka_classification.csv')"
   ]
  },
  {
   "cell_type": "code",
   "execution_count": 21,
   "metadata": {},
   "outputs": [
    {
     "data": {
      "text/html": [
       "<div>\n",
       "<style scoped>\n",
       "    .dataframe tbody tr th:only-of-type {\n",
       "        vertical-align: middle;\n",
       "    }\n",
       "\n",
       "    .dataframe tbody tr th {\n",
       "        vertical-align: top;\n",
       "    }\n",
       "\n",
       "    .dataframe thead th {\n",
       "        text-align: right;\n",
       "    }\n",
       "</style>\n",
       "<table border=\"1\" class=\"dataframe\">\n",
       "  <thead>\n",
       "    <tr style=\"text-align: right;\">\n",
       "      <th></th>\n",
       "      <th>Sloka</th>\n",
       "      <th>Class</th>\n",
       "    </tr>\n",
       "  </thead>\n",
       "  <tbody>\n",
       "    <tr>\n",
       "      <th>0</th>\n",
       "      <td>कश्चित् कस्यचिन्मित्रं, न कश्चित् कस्यचित् रि...</td>\n",
       "      <td>Chanakya Slokas</td>\n",
       "    </tr>\n",
       "    <tr>\n",
       "      <th>1</th>\n",
       "      <td>मूर्खशिष्योपदेशेन दुष्टास्त्रीभरणेन च।        ...</td>\n",
       "      <td>Chanakya Slokas</td>\n",
       "    </tr>\n",
       "    <tr>\n",
       "      <th>2</th>\n",
       "      <td>दुष्टा भार्या शठं मित्रं भृत्यश्चोत्तरदायकः।  ...</td>\n",
       "      <td>Chanakya Slokas</td>\n",
       "    </tr>\n",
       "    <tr>\n",
       "      <th>3</th>\n",
       "      <td>धनिकः श्रोत्रियो राजा नदी वैद्यस्तु पञ्चमः।   ...</td>\n",
       "      <td>Chanakya Slokas</td>\n",
       "    </tr>\n",
       "    <tr>\n",
       "      <th>4</th>\n",
       "      <td>जानीयात्प्रेषणेभृत्यान् बान्धवान्व्यसनाऽऽगमे। ...</td>\n",
       "      <td>Chanakya Slokas</td>\n",
       "    </tr>\n",
       "  </tbody>\n",
       "</table>\n",
       "</div>"
      ],
      "text/plain": [
       "                                               Sloka            Class\n",
       "0   कश्चित् कस्यचिन्मित्रं, न कश्चित् कस्यचित् रि...  Chanakya Slokas\n",
       "1  मूर्खशिष्योपदेशेन दुष्टास्त्रीभरणेन च।        ...  Chanakya Slokas\n",
       "2  दुष्टा भार्या शठं मित्रं भृत्यश्चोत्तरदायकः।  ...  Chanakya Slokas\n",
       "3  धनिकः श्रोत्रियो राजा नदी वैद्यस्तु पञ्चमः।   ...  Chanakya Slokas\n",
       "4  जानीयात्प्रेषणेभृत्यान् बान्धवान्व्यसनाऽऽगमे। ...  Chanakya Slokas"
      ]
     },
     "execution_count": 21,
     "metadata": {},
     "output_type": "execute_result"
    }
   ],
   "source": [
    "df.head()"
   ]
  },
  {
   "cell_type": "code",
   "execution_count": null,
   "metadata": {},
   "outputs": [],
   "source": []
  }
 ],
 "metadata": {
  "kernelspec": {
   "display_name": "Python 3",
   "language": "python",
   "name": "python3"
  },
  "language_info": {
   "codemirror_mode": {
    "name": "ipython",
    "version": 3
   },
   "file_extension": ".py",
   "mimetype": "text/x-python",
   "name": "python",
   "nbconvert_exporter": "python",
   "pygments_lexer": "ipython3",
   "version": "3.6.7"
  }
 },
 "nbformat": 4,
 "nbformat_minor": 2
}
