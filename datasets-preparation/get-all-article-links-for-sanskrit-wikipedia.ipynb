{
 "cells": [
  {
   "cell_type": "code",
   "execution_count": 1,
   "metadata": {},
   "outputs": [],
   "source": [
    "from urllib.request import urlopen\n",
    "import pickle"
   ]
  },
  {
   "cell_type": "code",
   "execution_count": 2,
   "metadata": {},
   "outputs": [],
   "source": [
    "html_doc = ''\n",
    "with urlopen('https://sa.wikipedia.org/wiki/%E0%A4%AE%E0%A5%81%E0%A4%96%E0%A5%8D%E0%A4%AF%E0%A4%AA%E0%A5%83%E0%A4%B7%E0%A5%8D%E0%A4%A0%E0%A4%AE%E0%A5%8D') as response:\n",
    "    for line in response:\n",
    "        line = line.decode('utf-8')\n",
    "        html_doc = html_doc + line.replace('\\n','')"
   ]
  },
  {
   "cell_type": "code",
   "execution_count": 3,
   "metadata": {},
   "outputs": [],
   "source": [
    "from bs4 import BeautifulSoup\n",
    "soup = BeautifulSoup(html_doc, 'html.parser')"
   ]
  },
  {
   "cell_type": "code",
   "execution_count": 4,
   "metadata": {},
   "outputs": [
    {
     "data": {
      "text/plain": [
       "'मुख्यपृष्ठम्'"
      ]
     },
     "execution_count": 4,
     "metadata": {},
     "output_type": "execute_result"
    }
   ],
   "source": [
    "soup.h1.string"
   ]
  },
  {
   "cell_type": "code",
   "execution_count": 7,
   "metadata": {},
   "outputs": [],
   "source": [
    "tab = soup.find(\"table\",{\"style\":\"width:100%; margin-left:2px;vertical-align:top;horizontal-align:middle;font-size:95%; background:transparent;\"})"
   ]
  },
  {
   "cell_type": "code",
   "execution_count": 8,
   "metadata": {},
   "outputs": [],
   "source": [
    "anchors = tab.find_all('a')"
   ]
  },
  {
   "cell_type": "code",
   "execution_count": 15,
   "metadata": {},
   "outputs": [
    {
     "data": {
      "text/plain": [
       "[<a href=\"/wiki/%E0%A4%B5%E0%A4%BF%E0%A4%B6%E0%A5%87%E0%A4%B7%E0%A4%83:%E0%A4%B8%E0%A4%B0%E0%A5%8D%E0%A4%B5%E0%A4%AA%E0%A5%83%E0%A4%B7%E0%A5%8D%E0%A4%A0%E0%A4%BE%E0%A4%A8%E0%A4%BF/%E0%A5%90\" title=\"विशेषः:सर्वपृष्ठानि/ॐ\">ॐ</a>,\n",
       " <a href=\"/wiki/%E0%A4%B5%E0%A4%BF%E0%A4%B6%E0%A5%87%E0%A4%B7%E0%A4%83:%E0%A4%B8%E0%A4%B0%E0%A5%8D%E0%A4%B5%E0%A4%AA%E0%A5%83%E0%A4%B7%E0%A5%8D%E0%A4%A0%E0%A4%BE%E0%A4%A8%E0%A4%BF/%E0%A4%85\" title=\"विशेषः:सर्वपृष्ठानि/अ\">अ</a>,\n",
       " <a href=\"/wiki/%E0%A4%B5%E0%A4%BF%E0%A4%B6%E0%A5%87%E0%A4%B7%E0%A4%83:%E0%A4%B8%E0%A4%B0%E0%A5%8D%E0%A4%B5%E0%A4%AA%E0%A5%83%E0%A4%B7%E0%A5%8D%E0%A4%A0%E0%A4%BE%E0%A4%A8%E0%A4%BF/%E0%A4%86\" title=\"विशेषः:सर्वपृष्ठानि/आ\">आ</a>,\n",
       " <a href=\"/wiki/%E0%A4%B5%E0%A4%BF%E0%A4%B6%E0%A5%87%E0%A4%B7%E0%A4%83:%E0%A4%B8%E0%A4%B0%E0%A5%8D%E0%A4%B5%E0%A4%AA%E0%A5%83%E0%A4%B7%E0%A5%8D%E0%A4%A0%E0%A4%BE%E0%A4%A8%E0%A4%BF/%E0%A4%87\" title=\"विशेषः:सर्वपृष्ठानि/इ\">इ</a>,\n",
       " <a href=\"/wiki/%E0%A4%B5%E0%A4%BF%E0%A4%B6%E0%A5%87%E0%A4%B7%E0%A4%83:%E0%A4%B8%E0%A4%B0%E0%A5%8D%E0%A4%B5%E0%A4%AA%E0%A5%83%E0%A4%B7%E0%A5%8D%E0%A4%A0%E0%A4%BE%E0%A4%A8%E0%A4%BF/%E0%A4%88\" title=\"विशेषः:सर्वपृष्ठानि/ई\">ई</a>,\n",
       " <a href=\"/wiki/%E0%A4%B5%E0%A4%BF%E0%A4%B6%E0%A5%87%E0%A4%B7%E0%A4%83:%E0%A4%B8%E0%A4%B0%E0%A5%8D%E0%A4%B5%E0%A4%AA%E0%A5%83%E0%A4%B7%E0%A5%8D%E0%A4%A0%E0%A4%BE%E0%A4%A8%E0%A4%BF/%E0%A4%89\" title=\"विशेषः:सर्वपृष्ठानि/उ\">उ</a>,\n",
       " <a href=\"/wiki/%E0%A4%B5%E0%A4%BF%E0%A4%B6%E0%A5%87%E0%A4%B7%E0%A4%83:%E0%A4%B8%E0%A4%B0%E0%A5%8D%E0%A4%B5%E0%A4%AA%E0%A5%83%E0%A4%B7%E0%A5%8D%E0%A4%A0%E0%A4%BE%E0%A4%A8%E0%A4%BF/%E0%A4%8A\" title=\"विशेषः:सर्वपृष्ठानि/ऊ\">ऊ</a>,\n",
       " <a href=\"/wiki/%E0%A4%B5%E0%A4%BF%E0%A4%B6%E0%A5%87%E0%A4%B7%E0%A4%83:%E0%A4%B8%E0%A4%B0%E0%A5%8D%E0%A4%B5%E0%A4%AA%E0%A5%83%E0%A4%B7%E0%A5%8D%E0%A4%A0%E0%A4%BE%E0%A4%A8%E0%A4%BF/%E0%A4%8B\" title=\"विशेषः:सर्वपृष्ठानि/ऋ\">ऋ</a>,\n",
       " <a href=\"/wiki/%E0%A4%B5%E0%A4%BF%E0%A4%B6%E0%A5%87%E0%A4%B7%E0%A4%83:%E0%A4%B8%E0%A4%B0%E0%A5%8D%E0%A4%B5%E0%A4%AA%E0%A5%83%E0%A4%B7%E0%A5%8D%E0%A4%A0%E0%A4%BE%E0%A4%A8%E0%A4%BF/%E0%A5%A0\" title=\"विशेषः:सर्वपृष्ठानि/ॠ\">ॠ</a>,\n",
       " <a href=\"/wiki/%E0%A4%B5%E0%A4%BF%E0%A4%B6%E0%A5%87%E0%A4%B7%E0%A4%83:%E0%A4%B8%E0%A4%B0%E0%A5%8D%E0%A4%B5%E0%A4%AA%E0%A5%83%E0%A4%B7%E0%A5%8D%E0%A4%A0%E0%A4%BE%E0%A4%A8%E0%A4%BF/%E0%A4%8C\" title=\"विशेषः:सर्वपृष्ठानि/ऌ\">ऌ</a>,\n",
       " <a href=\"/wiki/%E0%A4%B5%E0%A4%BF%E0%A4%B6%E0%A5%87%E0%A4%B7%E0%A4%83:%E0%A4%B8%E0%A4%B0%E0%A5%8D%E0%A4%B5%E0%A4%AA%E0%A5%83%E0%A4%B7%E0%A5%8D%E0%A4%A0%E0%A4%BE%E0%A4%A8%E0%A4%BF/%E0%A5%A1\" title=\"विशेषः:सर्वपृष्ठानि/ॡ\">ॡ</a>,\n",
       " <a href=\"/wiki/%E0%A4%B5%E0%A4%BF%E0%A4%B6%E0%A5%87%E0%A4%B7%E0%A4%83:%E0%A4%B8%E0%A4%B0%E0%A5%8D%E0%A4%B5%E0%A4%AA%E0%A5%83%E0%A4%B7%E0%A5%8D%E0%A4%A0%E0%A4%BE%E0%A4%A8%E0%A4%BF/%E0%A4%8F\" title=\"विशेषः:सर्वपृष्ठानि/ए\">ए</a>,\n",
       " <a href=\"/wiki/%E0%A4%B5%E0%A4%BF%E0%A4%B6%E0%A5%87%E0%A4%B7%E0%A4%83:%E0%A4%B8%E0%A4%B0%E0%A5%8D%E0%A4%B5%E0%A4%AA%E0%A5%83%E0%A4%B7%E0%A5%8D%E0%A4%A0%E0%A4%BE%E0%A4%A8%E0%A4%BF/%E0%A4%90\" title=\"विशेषः:सर्वपृष्ठानि/ऐ\">ऐ</a>,\n",
       " <a href=\"/wiki/%E0%A4%B5%E0%A4%BF%E0%A4%B6%E0%A5%87%E0%A4%B7%E0%A4%83:%E0%A4%B8%E0%A4%B0%E0%A5%8D%E0%A4%B5%E0%A4%AA%E0%A5%83%E0%A4%B7%E0%A5%8D%E0%A4%A0%E0%A4%BE%E0%A4%A8%E0%A4%BF/%E0%A4%93\" title=\"विशेषः:सर्वपृष्ठानि/ओ\">ओ</a>,\n",
       " <a href=\"/wiki/%E0%A4%B5%E0%A4%BF%E0%A4%B6%E0%A5%87%E0%A4%B7%E0%A4%83:%E0%A4%B8%E0%A4%B0%E0%A5%8D%E0%A4%B5%E0%A4%AA%E0%A5%83%E0%A4%B7%E0%A5%8D%E0%A4%A0%E0%A4%BE%E0%A4%A8%E0%A4%BF/%E0%A4%94\" title=\"विशेषः:सर्वपृष्ठानि/औ\">औ</a>,\n",
       " <a href=\"/wiki/%E0%A4%B5%E0%A4%BF%E0%A4%B6%E0%A5%87%E0%A4%B7%E0%A4%83:%E0%A4%B8%E0%A4%B0%E0%A5%8D%E0%A4%B5%E0%A4%AA%E0%A5%83%E0%A4%B7%E0%A5%8D%E0%A4%A0%E0%A4%BE%E0%A4%A8%E0%A4%BF/%E0%A4%85%E0%A4%82\" title=\"विशेषः:सर्वपृष्ठानि/अं\">अं</a>,\n",
       " <a href=\"/wiki/%E0%A4%B5%E0%A4%BF%E0%A4%B6%E0%A5%87%E0%A4%B7%E0%A4%83:%E0%A4%B8%E0%A4%B0%E0%A5%8D%E0%A4%B5%E0%A4%AA%E0%A5%83%E0%A4%B7%E0%A5%8D%E0%A4%A0%E0%A4%BE%E0%A4%A8%E0%A4%BF/%E0%A4%85%E0%A4%83\" title=\"विशेषः:सर्वपृष्ठानि/अः\">अः</a>,\n",
       " <a href=\"/wiki/%E0%A4%B5%E0%A4%BF%E0%A4%B6%E0%A5%87%E0%A4%B7%E0%A4%83:%E0%A4%B8%E0%A4%B0%E0%A5%8D%E0%A4%B5%E0%A4%AA%E0%A5%83%E0%A4%B7%E0%A5%8D%E0%A4%A0%E0%A4%BE%E0%A4%A8%E0%A4%BF/\" title=\"विशेषः:सर्वपृष्ठानि/\"> </a>,\n",
       " <a href=\"/wiki/%E0%A4%B5%E0%A4%BF%E0%A4%B6%E0%A5%87%E0%A4%B7%E0%A4%83:%E0%A4%B8%E0%A4%B0%E0%A5%8D%E0%A4%B5%E0%A4%AA%E0%A5%83%E0%A4%B7%E0%A5%8D%E0%A4%A0%E0%A4%BE%E0%A4%A8%E0%A4%BF/%E0%A4%95\" title=\"विशेषः:सर्वपृष्ठानि/क\">क</a>,\n",
       " <a href=\"/wiki/%E0%A4%B5%E0%A4%BF%E0%A4%B6%E0%A5%87%E0%A4%B7%E0%A4%83:%E0%A4%B8%E0%A4%B0%E0%A5%8D%E0%A4%B5%E0%A4%AA%E0%A5%83%E0%A4%B7%E0%A5%8D%E0%A4%A0%E0%A4%BE%E0%A4%A8%E0%A4%BF/%E0%A4%96\" title=\"विशेषः:सर्वपृष्ठानि/ख\">ख</a>,\n",
       " <a href=\"/wiki/%E0%A4%B5%E0%A4%BF%E0%A4%B6%E0%A5%87%E0%A4%B7%E0%A4%83:%E0%A4%B8%E0%A4%B0%E0%A5%8D%E0%A4%B5%E0%A4%AA%E0%A5%83%E0%A4%B7%E0%A5%8D%E0%A4%A0%E0%A4%BE%E0%A4%A8%E0%A4%BF/%E0%A4%97\" title=\"विशेषः:सर्वपृष्ठानि/ग\">ग</a>,\n",
       " <a href=\"/wiki/%E0%A4%B5%E0%A4%BF%E0%A4%B6%E0%A5%87%E0%A4%B7%E0%A4%83:%E0%A4%B8%E0%A4%B0%E0%A5%8D%E0%A4%B5%E0%A4%AA%E0%A5%83%E0%A4%B7%E0%A5%8D%E0%A4%A0%E0%A4%BE%E0%A4%A8%E0%A4%BF/%E0%A4%98\" title=\"विशेषः:सर्वपृष्ठानि/घ\">घ</a>,\n",
       " <a href=\"/wiki/%E0%A4%B5%E0%A4%BF%E0%A4%B6%E0%A5%87%E0%A4%B7%E0%A4%83:%E0%A4%B8%E0%A4%B0%E0%A5%8D%E0%A4%B5%E0%A4%AA%E0%A5%83%E0%A4%B7%E0%A5%8D%E0%A4%A0%E0%A4%BE%E0%A4%A8%E0%A4%BF/%E0%A4%99\" title=\"विशेषः:सर्वपृष्ठानि/ङ\">ङ</a>,\n",
       " <a href=\"/wiki/%E0%A4%B5%E0%A4%BF%E0%A4%B6%E0%A5%87%E0%A4%B7%E0%A4%83:%E0%A4%B8%E0%A4%B0%E0%A5%8D%E0%A4%B5%E0%A4%AA%E0%A5%83%E0%A4%B7%E0%A5%8D%E0%A4%A0%E0%A4%BE%E0%A4%A8%E0%A4%BF/%E0%A4%9A\" title=\"विशेषः:सर्वपृष्ठानि/च\">च</a>,\n",
       " <a href=\"/wiki/%E0%A4%B5%E0%A4%BF%E0%A4%B6%E0%A5%87%E0%A4%B7%E0%A4%83:%E0%A4%B8%E0%A4%B0%E0%A5%8D%E0%A4%B5%E0%A4%AA%E0%A5%83%E0%A4%B7%E0%A5%8D%E0%A4%A0%E0%A4%BE%E0%A4%A8%E0%A4%BF/%E0%A4%9B\" title=\"विशेषः:सर्वपृष्ठानि/छ\">छ</a>,\n",
       " <a href=\"/wiki/%E0%A4%B5%E0%A4%BF%E0%A4%B6%E0%A5%87%E0%A4%B7%E0%A4%83:%E0%A4%B8%E0%A4%B0%E0%A5%8D%E0%A4%B5%E0%A4%AA%E0%A5%83%E0%A4%B7%E0%A5%8D%E0%A4%A0%E0%A4%BE%E0%A4%A8%E0%A4%BF/%E0%A4%9C\" title=\"विशेषः:सर्वपृष्ठानि/ज\">ज</a>,\n",
       " <a href=\"/wiki/%E0%A4%B5%E0%A4%BF%E0%A4%B6%E0%A5%87%E0%A4%B7%E0%A4%83:%E0%A4%B8%E0%A4%B0%E0%A5%8D%E0%A4%B5%E0%A4%AA%E0%A5%83%E0%A4%B7%E0%A5%8D%E0%A4%A0%E0%A4%BE%E0%A4%A8%E0%A4%BF/%E0%A4%9D\" title=\"विशेषः:सर्वपृष्ठानि/झ\">झ</a>,\n",
       " <a href=\"/wiki/%E0%A4%B5%E0%A4%BF%E0%A4%B6%E0%A5%87%E0%A4%B7%E0%A4%83:%E0%A4%B8%E0%A4%B0%E0%A5%8D%E0%A4%B5%E0%A4%AA%E0%A5%83%E0%A4%B7%E0%A5%8D%E0%A4%A0%E0%A4%BE%E0%A4%A8%E0%A4%BF/%E0%A4%9E\" title=\"विशेषः:सर्वपृष्ठानि/ञ\">ञ</a>,\n",
       " <a href=\"/wiki/%E0%A4%B5%E0%A4%BF%E0%A4%B6%E0%A5%87%E0%A4%B7%E0%A4%83:%E0%A4%B8%E0%A4%B0%E0%A5%8D%E0%A4%B5%E0%A4%AA%E0%A5%83%E0%A4%B7%E0%A5%8D%E0%A4%A0%E0%A4%BE%E0%A4%A8%E0%A4%BF/%E0%A5%A6\" title=\"विशेषः:सर्वपृष्ठानि/०\">०-९</a>,\n",
       " <a href=\"/wiki/%E0%A4%AB%E0%A4%B2%E0%A4%95%E0%A4%AE%E0%A5%8D:%E0%A4%AE%E0%A5%81%E0%A4%96%E0%A4%AA%E0%A5%83%E0%A4%B7%E0%A5%8D%E0%A4%A0%E0%A4%BE%E0%A4%95%E0%A5%8D%E0%A4%B7%E0%A4%B0%E0%A4%AE%E0%A4%BE%E0%A4%B2%E0%A4%BE\" title=\"फलकम्:मुखपृष्ठाक्षरमाला\">वर्णमाला</a>,\n",
       " <a href=\"/wiki/%E0%A4%B5%E0%A4%BF%E0%A4%B6%E0%A5%87%E0%A4%B7%E0%A4%83:%E0%A4%B8%E0%A4%B0%E0%A5%8D%E0%A4%B5%E0%A4%AA%E0%A5%83%E0%A4%B7%E0%A5%8D%E0%A4%A0%E0%A4%BE%E0%A4%A8%E0%A4%BF/%E0%A4%9F\" title=\"विशेषः:सर्वपृष्ठानि/ट\">ट</a>,\n",
       " <a href=\"/wiki/%E0%A4%B5%E0%A4%BF%E0%A4%B6%E0%A5%87%E0%A4%B7%E0%A4%83:%E0%A4%B8%E0%A4%B0%E0%A5%8D%E0%A4%B5%E0%A4%AA%E0%A5%83%E0%A4%B7%E0%A5%8D%E0%A4%A0%E0%A4%BE%E0%A4%A8%E0%A4%BF/%E0%A4%A0\" title=\"विशेषः:सर्वपृष्ठानि/ठ\">ठ</a>,\n",
       " <a href=\"/wiki/%E0%A4%B5%E0%A4%BF%E0%A4%B6%E0%A5%87%E0%A4%B7%E0%A4%83:%E0%A4%B8%E0%A4%B0%E0%A5%8D%E0%A4%B5%E0%A4%AA%E0%A5%83%E0%A4%B7%E0%A5%8D%E0%A4%A0%E0%A4%BE%E0%A4%A8%E0%A4%BF/%E0%A4%A1\" title=\"विशेषः:सर्वपृष्ठानि/ड\">ड</a>,\n",
       " <a href=\"/wiki/%E0%A4%B5%E0%A4%BF%E0%A4%B6%E0%A5%87%E0%A4%B7%E0%A4%83:%E0%A4%B8%E0%A4%B0%E0%A5%8D%E0%A4%B5%E0%A4%AA%E0%A5%83%E0%A4%B7%E0%A5%8D%E0%A4%A0%E0%A4%BE%E0%A4%A8%E0%A4%BF/%E0%A4%A2\" title=\"विशेषः:सर्वपृष्ठानि/ढ\">ढ</a>,\n",
       " <a href=\"/wiki/%E0%A4%B5%E0%A4%BF%E0%A4%B6%E0%A5%87%E0%A4%B7%E0%A4%83:%E0%A4%B8%E0%A4%B0%E0%A5%8D%E0%A4%B5%E0%A4%AA%E0%A5%83%E0%A4%B7%E0%A5%8D%E0%A4%A0%E0%A4%BE%E0%A4%A8%E0%A4%BF/%E0%A4%A3\" title=\"विशेषः:सर्वपृष्ठानि/ण\">ण</a>,\n",
       " <a href=\"/wiki/%E0%A4%B5%E0%A4%BF%E0%A4%B6%E0%A5%87%E0%A4%B7%E0%A4%83:%E0%A4%B8%E0%A4%B0%E0%A5%8D%E0%A4%B5%E0%A4%AA%E0%A5%83%E0%A4%B7%E0%A5%8D%E0%A4%A0%E0%A4%BE%E0%A4%A8%E0%A4%BF/%E0%A4%A4\" title=\"विशेषः:सर्वपृष्ठानि/त\">त</a>,\n",
       " <a href=\"/wiki/%E0%A4%B5%E0%A4%BF%E0%A4%B6%E0%A5%87%E0%A4%B7%E0%A4%83:%E0%A4%B8%E0%A4%B0%E0%A5%8D%E0%A4%B5%E0%A4%AA%E0%A5%83%E0%A4%B7%E0%A5%8D%E0%A4%A0%E0%A4%BE%E0%A4%A8%E0%A4%BF/%E0%A4%A5\" title=\"विशेषः:सर्वपृष्ठानि/थ\">थ</a>,\n",
       " <a href=\"/wiki/%E0%A4%B5%E0%A4%BF%E0%A4%B6%E0%A5%87%E0%A4%B7%E0%A4%83:%E0%A4%B8%E0%A4%B0%E0%A5%8D%E0%A4%B5%E0%A4%AA%E0%A5%83%E0%A4%B7%E0%A5%8D%E0%A4%A0%E0%A4%BE%E0%A4%A8%E0%A4%BF/%E0%A4%A6\" title=\"विशेषः:सर्वपृष्ठानि/द\">द</a>,\n",
       " <a href=\"/wiki/%E0%A4%B5%E0%A4%BF%E0%A4%B6%E0%A5%87%E0%A4%B7%E0%A4%83:%E0%A4%B8%E0%A4%B0%E0%A5%8D%E0%A4%B5%E0%A4%AA%E0%A5%83%E0%A4%B7%E0%A5%8D%E0%A4%A0%E0%A4%BE%E0%A4%A8%E0%A4%BF/%E0%A4%A7\" title=\"विशेषः:सर्वपृष्ठानि/ध\">ध</a>,\n",
       " <a href=\"/wiki/%E0%A4%B5%E0%A4%BF%E0%A4%B6%E0%A5%87%E0%A4%B7%E0%A4%83:%E0%A4%B8%E0%A4%B0%E0%A5%8D%E0%A4%B5%E0%A4%AA%E0%A5%83%E0%A4%B7%E0%A5%8D%E0%A4%A0%E0%A4%BE%E0%A4%A8%E0%A4%BF/%E0%A4%A8\" title=\"विशेषः:सर्वपृष्ठानि/न\">न</a>,\n",
       " <a href=\"/wiki/%E0%A4%B5%E0%A4%BF%E0%A4%B6%E0%A5%87%E0%A4%B7%E0%A4%83:%E0%A4%B8%E0%A4%B0%E0%A5%8D%E0%A4%B5%E0%A4%AA%E0%A5%83%E0%A4%B7%E0%A5%8D%E0%A4%A0%E0%A4%BE%E0%A4%A8%E0%A4%BF/%E0%A4%AA\" title=\"विशेषः:सर्वपृष्ठानि/प\">प</a>,\n",
       " <a href=\"/wiki/%E0%A4%B5%E0%A4%BF%E0%A4%B6%E0%A5%87%E0%A4%B7%E0%A4%83:%E0%A4%B8%E0%A4%B0%E0%A5%8D%E0%A4%B5%E0%A4%AA%E0%A5%83%E0%A4%B7%E0%A5%8D%E0%A4%A0%E0%A4%BE%E0%A4%A8%E0%A4%BF/%E0%A4%AB\" title=\"विशेषः:सर्वपृष्ठानि/फ\">फ</a>,\n",
       " <a href=\"/wiki/%E0%A4%B5%E0%A4%BF%E0%A4%B6%E0%A5%87%E0%A4%B7%E0%A4%83:%E0%A4%B8%E0%A4%B0%E0%A5%8D%E0%A4%B5%E0%A4%AA%E0%A5%83%E0%A4%B7%E0%A5%8D%E0%A4%A0%E0%A4%BE%E0%A4%A8%E0%A4%BF/%E0%A4%AC\" title=\"विशेषः:सर्वपृष्ठानि/ब\">ब</a>,\n",
       " <a href=\"/wiki/%E0%A4%B5%E0%A4%BF%E0%A4%B6%E0%A5%87%E0%A4%B7%E0%A4%83:%E0%A4%B8%E0%A4%B0%E0%A5%8D%E0%A4%B5%E0%A4%AA%E0%A5%83%E0%A4%B7%E0%A5%8D%E0%A4%A0%E0%A4%BE%E0%A4%A8%E0%A4%BF/%E0%A4%AD\" title=\"विशेषः:सर्वपृष्ठानि/भ\">भ</a>,\n",
       " <a href=\"/wiki/%E0%A4%B5%E0%A4%BF%E0%A4%B6%E0%A5%87%E0%A4%B7%E0%A4%83:%E0%A4%B8%E0%A4%B0%E0%A5%8D%E0%A4%B5%E0%A4%AA%E0%A5%83%E0%A4%B7%E0%A5%8D%E0%A4%A0%E0%A4%BE%E0%A4%A8%E0%A4%BF/%E0%A4%AE\" title=\"विशेषः:सर्वपृष्ठानि/म\">म</a>,\n",
       " <a href=\"/wiki/%E0%A4%B5%E0%A4%BF%E0%A4%B6%E0%A5%87%E0%A4%B7%E0%A4%83:%E0%A4%B8%E0%A4%B0%E0%A5%8D%E0%A4%B5%E0%A4%AA%E0%A5%83%E0%A4%B7%E0%A5%8D%E0%A4%A0%E0%A4%BE%E0%A4%A8%E0%A4%BF/%E0%A4%AF\" title=\"विशेषः:सर्वपृष्ठानि/य\">य</a>,\n",
       " <a href=\"/wiki/%E0%A4%B5%E0%A4%BF%E0%A4%B6%E0%A5%87%E0%A4%B7%E0%A4%83:%E0%A4%B8%E0%A4%B0%E0%A5%8D%E0%A4%B5%E0%A4%AA%E0%A5%83%E0%A4%B7%E0%A5%8D%E0%A4%A0%E0%A4%BE%E0%A4%A8%E0%A4%BF/%E0%A4%B0\" title=\"विशेषः:सर्वपृष्ठानि/र\">र</a>,\n",
       " <a href=\"/wiki/%E0%A4%B5%E0%A4%BF%E0%A4%B6%E0%A5%87%E0%A4%B7%E0%A4%83:%E0%A4%B8%E0%A4%B0%E0%A5%8D%E0%A4%B5%E0%A4%AA%E0%A5%83%E0%A4%B7%E0%A5%8D%E0%A4%A0%E0%A4%BE%E0%A4%A8%E0%A4%BF/%E0%A4%B2\" title=\"विशेषः:सर्वपृष्ठानि/ल\">ल</a>,\n",
       " <a href=\"/wiki/%E0%A4%B5%E0%A4%BF%E0%A4%B6%E0%A5%87%E0%A4%B7%E0%A4%83:%E0%A4%B8%E0%A4%B0%E0%A5%8D%E0%A4%B5%E0%A4%AA%E0%A5%83%E0%A4%B7%E0%A5%8D%E0%A4%A0%E0%A4%BE%E0%A4%A8%E0%A4%BF/%E0%A4%B3\" title=\"विशेषः:सर्वपृष्ठानि/ळ\">ळ</a>,\n",
       " <a href=\"/wiki/%E0%A4%B5%E0%A4%BF%E0%A4%B6%E0%A5%87%E0%A4%B7%E0%A4%83:%E0%A4%B8%E0%A4%B0%E0%A5%8D%E0%A4%B5%E0%A4%AA%E0%A5%83%E0%A4%B7%E0%A5%8D%E0%A4%A0%E0%A4%BE%E0%A4%A8%E0%A4%BF/%E0%A4%B5\" title=\"विशेषः:सर्वपृष्ठानि/व\">व</a>,\n",
       " <a href=\"/wiki/%E0%A4%B5%E0%A4%BF%E0%A4%B6%E0%A5%87%E0%A4%B7%E0%A4%83:%E0%A4%B8%E0%A4%B0%E0%A5%8D%E0%A4%B5%E0%A4%AA%E0%A5%83%E0%A4%B7%E0%A5%8D%E0%A4%A0%E0%A4%BE%E0%A4%A8%E0%A4%BF/%E0%A4%B6\" title=\"विशेषः:सर्वपृष्ठानि/श\">श</a>,\n",
       " <a href=\"/wiki/%E0%A4%B5%E0%A4%BF%E0%A4%B6%E0%A5%87%E0%A4%B7%E0%A4%83:%E0%A4%B8%E0%A4%B0%E0%A5%8D%E0%A4%B5%E0%A4%AA%E0%A5%83%E0%A4%B7%E0%A5%8D%E0%A4%A0%E0%A4%BE%E0%A4%A8%E0%A4%BF/%E0%A4%B7\" title=\"विशेषः:सर्वपृष्ठानि/ष\">ष</a>,\n",
       " <a href=\"/wiki/%E0%A4%B5%E0%A4%BF%E0%A4%B6%E0%A5%87%E0%A4%B7%E0%A4%83:%E0%A4%B8%E0%A4%B0%E0%A5%8D%E0%A4%B5%E0%A4%AA%E0%A5%83%E0%A4%B7%E0%A5%8D%E0%A4%A0%E0%A4%BE%E0%A4%A8%E0%A4%BF/%E0%A4%B8\" title=\"विशेषः:सर्वपृष्ठानि/स\">स</a>,\n",
       " <a href=\"/wiki/%E0%A4%B5%E0%A4%BF%E0%A4%B6%E0%A5%87%E0%A4%B7%E0%A4%83:%E0%A4%B8%E0%A4%B0%E0%A5%8D%E0%A4%B5%E0%A4%AA%E0%A5%83%E0%A4%B7%E0%A5%8D%E0%A4%A0%E0%A4%BE%E0%A4%A8%E0%A4%BF/%E0%A4%B9\" title=\"विशेषः:सर्वपृष्ठानि/ह\">ह</a>,\n",
       " <a href=\"/wiki/%E0%A4%B5%E0%A4%BF%E0%A4%B6%E0%A5%87%E0%A4%B7%E0%A4%83:%E0%A4%B8%E0%A4%B0%E0%A5%8D%E0%A4%B5%E0%A4%AA%E0%A5%83%E0%A4%B7%E0%A5%8D%E0%A4%A0%E0%A4%BE%E0%A4%A8%E0%A4%BF/%E0%A4%95%E0%A5%8D%E0%A4%B7\" title=\"विशेषः:सर्वपृष्ठानि/क्ष\">क्ष</a>,\n",
       " <a href=\"/wiki/%E0%A4%B5%E0%A4%BF%E0%A4%B6%E0%A5%87%E0%A4%B7%E0%A4%83:%E0%A4%B8%E0%A4%B0%E0%A5%8D%E0%A4%B5%E0%A4%AA%E0%A5%83%E0%A4%B7%E0%A5%8D%E0%A4%A0%E0%A4%BE%E0%A4%A8%E0%A4%BF/%E0%A4%A4%E0%A5%8D%E0%A4%B0\" title=\"विशेषः:सर्वपृष्ठानि/त्र\">त्र</a>,\n",
       " <a href=\"/wiki/%E0%A4%B5%E0%A4%BF%E0%A4%B6%E0%A5%87%E0%A4%B7%E0%A4%83:%E0%A4%B8%E0%A4%B0%E0%A5%8D%E0%A4%B5%E0%A4%AA%E0%A5%83%E0%A4%B7%E0%A5%8D%E0%A4%A0%E0%A4%BE%E0%A4%A8%E0%A4%BF/%E0%A4%9C%E0%A5%8D%E0%A4%9E\" title=\"विशेषः:सर्वपृष्ठानि/ज्ञ\">ज्ञ</a>,\n",
       " <a href=\"/wiki/%E0%A4%B5%E0%A4%BF%E0%A4%B6%E0%A5%87%E0%A4%B7%E0%A4%83:%E0%A4%B8%E0%A4%B0%E0%A5%8D%E0%A4%B5%E0%A4%AA%E0%A5%83%E0%A4%B7%E0%A5%8D%E0%A4%A0%E0%A4%BE%E0%A4%A8%E0%A4%BF/0\" title=\"विशेषः:सर्वपृष्ठानि/0\">0-9</a>]"
      ]
     },
     "execution_count": 15,
     "metadata": {},
     "output_type": "execute_result"
    }
   ],
   "source": [
    "anchors"
   ]
  },
  {
   "cell_type": "code",
   "execution_count": 16,
   "metadata": {},
   "outputs": [],
   "source": [
    "home_url = 'https://sa.wikipedia.org' \n",
    "links = [home_url + anchor['href'] for anchor in anchors]"
   ]
  },
  {
   "cell_type": "code",
   "execution_count": 19,
   "metadata": {},
   "outputs": [
    {
     "data": {
      "text/plain": [
       "58"
      ]
     },
     "execution_count": 19,
     "metadata": {},
     "output_type": "execute_result"
    }
   ],
   "source": [
    "len(links)"
   ]
  },
  {
   "cell_type": "code",
   "execution_count": 20,
   "metadata": {},
   "outputs": [],
   "source": [
    "all_links = []"
   ]
  },
  {
   "cell_type": "code",
   "execution_count": 22,
   "metadata": {},
   "outputs": [
    {
     "name": "stdout",
     "output_type": "stream",
     "text": [
      "345\n",
      "690\n",
      "1035\n",
      "1380\n",
      "1725\n",
      "2070\n",
      "2415\n",
      "2760\n",
      "3055\n",
      "3055\n",
      "3400\n",
      "3745\n",
      "4090\n",
      "4435\n",
      "4780\n",
      "5125\n",
      "5470\n",
      "5815\n",
      "6160\n",
      "6505\n",
      "6850\n",
      "7195\n",
      "7540\n",
      "7885\n",
      "8230\n",
      "8575\n",
      "8920\n",
      "9265\n",
      "9610\n",
      "9955\n",
      "10300\n",
      "10645\n",
      "10990\n",
      "11335\n",
      "11680\n",
      "12025\n",
      "12370\n",
      "12715\n",
      "13060\n",
      "13405\n",
      "13750\n",
      "14095\n",
      "14440\n",
      "14785\n",
      "15130\n",
      "15475\n",
      "15820\n",
      "16165\n",
      "16510\n",
      "16855\n",
      "17200\n",
      "17545\n",
      "17890\n",
      "18235\n",
      "18580\n",
      "18895\n",
      "18895\n",
      "18895\n",
      "18895\n",
      "18895\n",
      "18895\n",
      "18895\n",
      "18895\n",
      "18895\n",
      "18895\n",
      "18895\n",
      "18895\n",
      "18895\n",
      "18895\n",
      "18895\n",
      "18895\n",
      "18895\n",
      "19240\n",
      "19240\n",
      "19240\n",
      "19240\n",
      "19240\n",
      "19240\n",
      "19240\n",
      "19240\n",
      "19240\n",
      "19240\n",
      "19240\n",
      "19240\n",
      "19240\n",
      "19240\n",
      "19240\n",
      "19240\n",
      "19240\n",
      "19240\n",
      "19240\n",
      "19240\n",
      "19240\n",
      "19240\n",
      "19240\n",
      "19240\n",
      "19240\n",
      "19240\n",
      "19240\n",
      "19240\n",
      "19240\n",
      "19240\n",
      "19240\n",
      "19240\n",
      "19240\n",
      "19240\n",
      "19240\n",
      "19240\n",
      "19240\n",
      "19240\n",
      "19240\n",
      "19240\n",
      "19248\n",
      "19593\n",
      "19938\n",
      "20283\n",
      "20628\n",
      "20973\n",
      "21318\n",
      "21663\n",
      "22008\n",
      "22273\n",
      "22273\n"
     ]
    }
   ],
   "source": [
    "# Main code\n",
    "prev_len = 0\n",
    "for link in links:    \n",
    "    while link:\n",
    "        html_doc = ''\n",
    "        with urlopen(link) as response:\n",
    "            for line in response:\n",
    "                line = line.decode('utf-8')\n",
    "                html_doc = html_doc + line.replace('\\n','')\n",
    "            soup = BeautifulSoup(html_doc, 'html.parser')\n",
    "            div = soup.find('div',{'class':'mw-allpages-body'})\n",
    "            if div:\n",
    "                anchors = div.find_all('a');\n",
    "                all_links = all_links + [home_url + anchor['href'] for anchor in anchors]\n",
    "                print(len(set(all_links)))\n",
    "            if prev_len == len(set(all_links)):\n",
    "                break\n",
    "            nav_div = soup.find('div',{'class':'mw-allpages-nav'})\n",
    "            if nav_div and len(nav_div.find_all('a')) == 2:\n",
    "                link = home_url + nav_div.find_all('a')[1]['href']\n",
    "            prev_len = len(set(all_links))"
   ]
  },
  {
   "cell_type": "code",
   "execution_count": 23,
   "metadata": {},
   "outputs": [
    {
     "data": {
      "text/plain": [
       "22273"
      ]
     },
     "execution_count": 23,
     "metadata": {},
     "output_type": "execute_result"
    }
   ],
   "source": [
    "len(set(all_links))"
   ]
  },
  {
   "cell_type": "code",
   "execution_count": 24,
   "metadata": {},
   "outputs": [
    {
     "data": {
      "text/plain": [
       "22273"
      ]
     },
     "execution_count": 24,
     "metadata": {},
     "output_type": "execute_result"
    }
   ],
   "source": [
    "all_links = list(set(all_links)); len(all_links)"
   ]
  },
  {
   "cell_type": "code",
   "execution_count": 25,
   "metadata": {},
   "outputs": [],
   "source": [
    "with open('all_sanskrit_wikipedia_links.pkl', 'wb') as f:\n",
    "    pickle.dump(all_links, f)"
   ]
  },
  {
   "cell_type": "code",
   "execution_count": 26,
   "metadata": {},
   "outputs": [
    {
     "data": {
      "text/plain": [
       "'https://sa.wikipedia.org/wiki/%E0%A4%95%E0%A4%B0%E0%A5%8D%E0%A4%A3%E0%A4%AE_%E0%A4%AE%E0%A4%B2%E0%A5%8D%E0%A4%B2%E0%A5%87%E0%A4%B6%E0%A5%8D%E0%A4%B5%E0%A4%B0%E0%A5%80'"
      ]
     },
     "execution_count": 26,
     "metadata": {},
     "output_type": "execute_result"
    }
   ],
   "source": [
    "all_links[160]"
   ]
  },
  {
   "cell_type": "code",
   "execution_count": null,
   "metadata": {},
   "outputs": [],
   "source": []
  }
 ],
 "metadata": {
  "kernelspec": {
   "display_name": "Python 3",
   "language": "python",
   "name": "python3"
  },
  "language_info": {
   "codemirror_mode": {
    "name": "ipython",
    "version": 3
   },
   "file_extension": ".py",
   "mimetype": "text/x-python",
   "name": "python",
   "nbconvert_exporter": "python",
   "pygments_lexer": "ipython3",
   "version": "3.6.7"
  }
 },
 "nbformat": 4,
 "nbformat_minor": 2
}
